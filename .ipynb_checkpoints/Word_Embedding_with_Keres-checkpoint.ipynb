{
 "cells": [
  {
   "cell_type": "markdown",
   "metadata": {},
   "source": [
    "### This document demosntrate how we can build a sentiment analysis on IMDB data using word embedding. \n",
    "Here, I use the `keras` package, which interfaces to the\n",
    "`tensorflow` package which in turn links to efficient `python` code. This code is\n",
    "impressively fast, and the package is well-structured. \n",
    "\n",
    "Important note: This `iPython notebook` need following dependencies\n",
    "`pandas`; `numpy`; `matplotlib` (for drawing figures); `keras` (for deep learning models); `tensorflow` (for running keres in the backend); If your machine don't have these libraries installed, you may see an error regarding this.\n"
   ]
  },
  {
   "cell_type": "code",
   "execution_count": 1,
   "metadata": {},
   "outputs": [],
   "source": [
    "# First we import the dependencies a.k.a python libraries which we will need to accomplish this excersie\n",
    "import pandas as pd  # pandas is a fast, powerful, flexible open source data analysis and manipulation tool\n",
    "import numpy as np   # NumPy offers comprehensive mathematical functions \n",
    "import matplotlib.pyplot as plt #Matplotlib is a comprehensive library for creating visualizations in Python.\n",
    "import tensorflow as tf     #TensorFlow is an end-to-end open source platform for machine learning.\n",
    "from tensorflow.keras.models import Sequential  \n",
    "from tensorflow.keras.layers import Embedding, Flatten, Dense, Dropout, Conv1D, MaxPooling1D\n",
    "from tensorflow.keras.datasets import imdb\n",
    "from tensorflow.keras.preprocessing.sequence import pad_sequences\n",
    "\n",
    "import warnings\n",
    "warnings.filterwarnings(\"ignore\")"
   ]
  },
  {
   "cell_type": "markdown",
   "metadata": {},
   "source": [
    "## IMDb Document Classification\n",
    "\n",
    "Now we perform Sentiment Analysis on the `IMDB` dataset, which is available as part of the `keras` package. \n",
    "We  limit the dictionary size to the 10,000  most frequently-used words and tokens."
   ]
  },
  {
   "cell_type": "code",
   "execution_count": 2,
   "metadata": {},
   "outputs": [
    {
     "name": "stdout",
     "output_type": "stream",
     "text": [
      "(25000,)\n",
      "(25000,)\n"
     ]
    }
   ],
   "source": [
    "# Load dataset\n",
    "num_distinct_words = 10000\n",
    "(x_train, y_train), (x_test, y_test) = imdb.load_data(num_words=num_distinct_words)\n",
    "print(x_train.shape)\n",
    "print(x_test.shape)"
   ]
  },
  {
   "cell_type": "code",
   "execution_count": null,
   "metadata": {},
   "outputs": [],
   "source": []
  },
  {
   "cell_type": "markdown",
   "metadata": {},
   "source": [
    "Each element of `x_train` is a vector of numbers between 0 and\n",
    "9999 (the document), referring to the words found in the dictionary.\n",
    "For example, the first training document is the positive review on. Lets see the output and the review of first \n",
    "training data"
   ]
  },
  {
   "cell_type": "code",
   "execution_count": 3,
   "metadata": {},
   "outputs": [],
   "source": [
    "# Pad all sequences\n",
    "max_sequence_length = 200\n",
    "padded_inputs = pad_sequences(x_train, maxlen=max_sequence_length, value = 0.0, padding='post', truncating ='post' ) # 0.0 because it corresponds with <PAD>\n",
    "padded_inputs_test = pad_sequences(x_test, maxlen=max_sequence_length, value = 0.0, padding='post', truncating ='post') # 0.0 because it corresponds with <PAD>\n"
   ]
  },
  {
   "cell_type": "code",
   "execution_count": 4,
   "metadata": {},
   "outputs": [
    {
     "name": "stdout",
     "output_type": "stream",
     "text": [
      "=================================================\n",
      "Sample = 0 | Length = 200 | Sentiment: 1\n",
      "=================================================\n",
      "<START> this film was just brilliant casting location scenery story direction everyone's really suited the part they played and you could just imagine being there robert <UNK> is an amazing actor and now the same being director <UNK> father came from the same scottish island as myself so i loved the fact there was a real connection with this film the witty remarks throughout the film were great it was just brilliant so much that i bought the film as soon as it was released for <UNK> and would recommend it to everyone to watch and the fly fishing was amazing really cried at the end it was so sad and you know what they say if you cry at a film it must have been good and this definitely was also <UNK> to the two little boy's that played the <UNK> of norman and paul they were just brilliant children are often left out of the <UNK> list i think because the stars that play them all grown up are such a big profile for the whole film but these children are amazing and should be praised for what they have done don't you think the whole story was\n",
      "=================================================\n",
      "Sample = 1 | Length = 200 | Sentiment: 0\n",
      "=================================================\n",
      "<START> big hair big boobs bad music and a giant safety pin these are the words to best describe this terrible movie i love cheesy horror movies and i've seen hundreds but this had got to be on of the worst ever made the plot is paper thin and ridiculous the acting is an abomination the script is completely laughable the best is the end showdown with the cop and how he worked out who the killer is it's just so damn terribly written the clothes are sickening and funny in equal <UNK> the hair is big lots of boobs <UNK> men wear those cut <UNK> shirts that show off their <UNK> sickening that men actually wore them and the music is just <UNK> trash that plays over and over again in almost every scene there is trashy music boobs and <UNK> taking away bodies and the gym still doesn't close for <UNK> all joking aside this is a truly bad film whose only charm is to look back on the disaster that was the 80's and have a good old laugh at how bad everything was back then <PAD> <PAD> <PAD> <PAD> <PAD> <PAD> <PAD> <PAD> <PAD> <PAD> <PAD>\n",
      "=================================================\n",
      "Sample = 2 | Length = 200 | Sentiment: 0\n",
      "=================================================\n",
      "<START> this has to be one of the worst films of the 1990s when my friends i were watching this film being the target audience it was aimed at we just sat watched the first half an hour with our jaws touching the floor at how bad it really was the rest of the time everyone else in the theatre just started talking to each other leaving or generally crying into their popcorn that they actually paid money they had <UNK> working to watch this feeble excuse for a film it must have looked like a great idea on paper but on film it looks like no one in the film has a clue what is going on crap acting crap costumes i can't get across how <UNK> this is to watch save yourself an hour a bit of your life <PAD> <PAD> <PAD> <PAD> <PAD> <PAD> <PAD> <PAD> <PAD> <PAD> <PAD> <PAD> <PAD> <PAD> <PAD> <PAD> <PAD> <PAD> <PAD> <PAD> <PAD> <PAD> <PAD> <PAD> <PAD> <PAD> <PAD> <PAD> <PAD> <PAD> <PAD> <PAD> <PAD> <PAD> <PAD> <PAD> <PAD> <PAD> <PAD> <PAD> <PAD> <PAD> <PAD> <PAD> <PAD> <PAD> <PAD> <PAD> <PAD> <PAD> <PAD> <PAD> <PAD> <PAD> <PAD> <PAD> <PAD> <PAD> <PAD>\n"
     ]
    }
   ],
   "source": [
    "# Obtain 3 texts\n",
    "for i in range(0,3):\n",
    "    INDEX_FROM=3   # word index offset\n",
    "    word_to_id = imdb.get_word_index()\n",
    "    word_to_id = {k:(v+INDEX_FROM) for k,v in word_to_id.items()}\n",
    "    word_to_id[\"<PAD>\"] = 0\n",
    "    word_to_id[\"<START>\"] = 1\n",
    "    word_to_id[\"<UNK>\"] = 2\n",
    "    word_to_id[\"<UNUSED>\"] = 3\n",
    "    \n",
    "    id_to_word = {value:key for key,value in word_to_id.items()}\n",
    "    print('=================================================')\n",
    "    print(f'Sample = {i} | Length = {len(padded_inputs[i])} |', \"Sentiment:\", y_train[i])\n",
    "    print('=================================================')\n",
    "    print(' '.join(id_to_word[id] for id in padded_inputs[i] ))\n",
    "    "
   ]
  },
  {
   "cell_type": "markdown",
   "metadata": {},
   "source": [
    "Now we're ready to build our simple neural network. We'll start by defining the type of model we want to build. "
   ]
  },
  {
   "cell_type": "code",
   "execution_count": 5,
   "metadata": {},
   "outputs": [],
   "source": [
    "tf.keras.backend.clear_session()"
   ]
  },
  {
   "cell_type": "code",
   "execution_count": 6,
   "metadata": {},
   "outputs": [],
   "source": [
    "# Define the Keras model\n",
    "model = Sequential()\n",
    "model.add(Embedding(num_distinct_words, 20, input_length=max_sequence_length))\n",
    "model.add(Dropout(0.50))\n",
    "model.add(Conv1D(filters=32, kernel_size=2, padding='same', activation='relu'))\n",
    "model.add(Dropout(0.50))\n",
    "model.add(MaxPooling1D(pool_size=2))\n",
    "model.add(Flatten())\n",
    "model.add(Dropout(0.50))\n",
    "model.add(Dense(1, activation='sigmoid'))"
   ]
  },
  {
   "cell_type": "markdown",
   "metadata": {},
   "source": [
    "Now complile the model and see a graphical overview of the model "
   ]
  },
  {
   "cell_type": "code",
   "execution_count": 7,
   "metadata": {
    "scrolled": false
   },
   "outputs": [
    {
     "name": "stdout",
     "output_type": "stream",
     "text": [
      "Model: \"sequential\"\n",
      "_________________________________________________________________\n",
      "Layer (type)                 Output Shape              Param #   \n",
      "=================================================================\n",
      "embedding (Embedding)        (None, 200, 20)           200000    \n",
      "_________________________________________________________________\n",
      "dropout (Dropout)            (None, 200, 20)           0         \n",
      "_________________________________________________________________\n",
      "conv1d (Conv1D)              (None, 200, 32)           1312      \n",
      "_________________________________________________________________\n",
      "dropout_1 (Dropout)          (None, 200, 32)           0         \n",
      "_________________________________________________________________\n",
      "max_pooling1d (MaxPooling1D) (None, 100, 32)           0         \n",
      "_________________________________________________________________\n",
      "flatten (Flatten)            (None, 3200)              0         \n",
      "_________________________________________________________________\n",
      "dropout_2 (Dropout)          (None, 3200)              0         \n",
      "_________________________________________________________________\n",
      "dense (Dense)                (None, 1)                 3201      \n",
      "=================================================================\n",
      "Total params: 204,513\n",
      "Trainable params: 204,513\n",
      "Non-trainable params: 0\n",
      "_________________________________________________________________\n"
     ]
    }
   ],
   "source": [
    "# Compile the model\n",
    "model.compile(optimizer='adam', loss='binary_crossentropy', metrics=['accuracy'])\n",
    "\n",
    "# Give a summary\n",
    "model.summary()\n"
   ]
  },
  {
   "cell_type": "code",
   "execution_count": null,
   "metadata": {},
   "outputs": [
    {
     "name": "stdout",
     "output_type": "stream",
     "text": [
      "Epoch 1/10\n",
      "WARNING:tensorflow:AutoGraph could not transform <function Model.make_train_function.<locals>.train_function at 0x146213c20> and will run it as-is.\n",
      "Please report this to the TensorFlow team. When filing the bug, set the verbosity to 10 (on Linux, `export AUTOGRAPH_VERBOSITY=10`) and attach the full output.\n",
      "Cause: 'arguments' object has no attribute 'posonlyargs'\n",
      "To silence this warning, decorate the function with @tf.autograph.experimental.do_not_convert\n",
      "WARNING: AutoGraph could not transform <function Model.make_train_function.<locals>.train_function at 0x146213c20> and will run it as-is.\n",
      "Please report this to the TensorFlow team. When filing the bug, set the verbosity to 10 (on Linux, `export AUTOGRAPH_VERBOSITY=10`) and attach the full output.\n",
      "Cause: 'arguments' object has no attribute 'posonlyargs'\n",
      "To silence this warning, decorate the function with @tf.autograph.experimental.do_not_convert\n",
      "78/79 [============================>.] - ETA: 0s - loss: 0.6938 - accuracy: 0.5028WARNING:tensorflow:AutoGraph could not transform <function Model.make_test_function.<locals>.test_function at 0x1457e8830> and will run it as-is.\n",
      "Please report this to the TensorFlow team. When filing the bug, set the verbosity to 10 (on Linux, `export AUTOGRAPH_VERBOSITY=10`) and attach the full output.\n",
      "Cause: 'arguments' object has no attribute 'posonlyargs'\n",
      "To silence this warning, decorate the function with @tf.autograph.experimental.do_not_convert\n",
      "WARNING: AutoGraph could not transform <function Model.make_test_function.<locals>.test_function at 0x1457e8830> and will run it as-is.\n",
      "Please report this to the TensorFlow team. When filing the bug, set the verbosity to 10 (on Linux, `export AUTOGRAPH_VERBOSITY=10`) and attach the full output.\n",
      "Cause: 'arguments' object has no attribute 'posonlyargs'\n",
      "To silence this warning, decorate the function with @tf.autograph.experimental.do_not_convert\n",
      "79/79 [==============================] - 5s 57ms/step - loss: 0.6937 - accuracy: 0.5029 - val_loss: 0.6922 - val_accuracy: 0.5256\n",
      "Epoch 2/10\n",
      "79/79 [==============================] - 4s 51ms/step - loss: 0.6880 - accuracy: 0.5464 - val_loss: 0.6656 - val_accuracy: 0.6914\n",
      "Epoch 3/10\n",
      "79/79 [==============================] - 4s 52ms/step - loss: 0.6079 - accuracy: 0.6969 - val_loss: 0.4241 - val_accuracy: 0.8408\n",
      "Epoch 4/10\n",
      "79/79 [==============================] - 4s 52ms/step - loss: 0.3698 - accuracy: 0.8403 - val_loss: 0.3458 - val_accuracy: 0.8564\n",
      "Epoch 5/10\n",
      "79/79 [==============================] - 5s 66ms/step - loss: 0.2831 - accuracy: 0.8832 - val_loss: 0.3184 - val_accuracy: 0.8736\n",
      "Epoch 6/10\n",
      "79/79 [==============================] - 5s 62ms/step - loss: 0.2412 - accuracy: 0.9037 - val_loss: 0.3138 - val_accuracy: 0.8702\n",
      "Epoch 7/10\n",
      "79/79 [==============================] - 4s 53ms/step - loss: 0.2327 - accuracy: 0.9053 - val_loss: 0.3087 - val_accuracy: 0.8758\n",
      "Epoch 8/10\n",
      "79/79 [==============================] - 4s 50ms/step - loss: 0.1993 - accuracy: 0.9215 - val_loss: 0.3142 - val_accuracy: 0.8728\n",
      "Epoch 9/10\n",
      "53/79 [===================>..........] - ETA: 1s - loss: 0.1826 - accuracy: 0.9310"
     ]
    }
   ],
   "source": [
    "# Train the model\n",
    "history = model.fit(padded_inputs, y_train, epochs=10, batch_size=256, verbose=1, validation_split=0.2)"
   ]
  },
  {
   "cell_type": "markdown",
   "metadata": {},
   "source": [
    "(Here, I reduced the number of epochs to make\n",
    "    runtimes manageable; for an optimal model you may need to increase the number of epoc e.g. 50,100)*\n",
    "\n",
    "We can plot the `history` to display the error and accuracy for the training and validation data. "
   ]
  },
  {
   "cell_type": "code",
   "execution_count": null,
   "metadata": {},
   "outputs": [],
   "source": [
    "# plotting the error and accuracy metrics\n",
    "fig = plt.figure(figsize =(4,8))\n",
    "plt.subplot(2,1,1)\n",
    "plt.plot(history.history['accuracy'])\n",
    "plt.plot(history.history['val_accuracy'])\n",
    "plt.title('Model Accuracy')\n",
    "plt.ylabel('accuracy')\n",
    "plt.xlabel('epoch')\n",
    "plt.legend(['train', 'validation'], loc='lower right')\n",
    "\n",
    "\n",
    "plt.subplot(2,1,2)\n",
    "plt.plot(history.history['loss'])\n",
    "plt.plot(history.history['val_loss'])\n",
    "plt.title('Model Loss')\n",
    "plt.ylabel('loss')\n",
    "plt.xlabel('epoch')\n",
    "plt.legend(['train', 'validation'], loc='upper right')\n",
    "plt.tight_layout()\n",
    "plt.show()"
   ]
  },
  {
   "cell_type": "markdown",
   "metadata": {},
   "source": [
    "Finally, lets evaluate how our model perform in the test data"
   ]
  },
  {
   "cell_type": "code",
   "execution_count": null,
   "metadata": {},
   "outputs": [],
   "source": [
    "test_results = model.evaluate(padded_inputs_test, y_test, verbose=False)\n",
    "print(f'Test results - Loss: {np.round(test_results[0],4)} - Accuracy: {np.round(100*test_results[1],2)}%')"
   ]
  },
  {
   "cell_type": "markdown",
   "metadata": {},
   "source": [
    "This model takes 5 minutes to run and achieves 85% accuracy on the test\n",
    "data. Although this is not terrible for 2-class data, given the simple architecture of the model (a random\n",
    "classifier gets 50% accuracy).\n",
    "Typically, it takes a lot of architecture carpentry,\n",
    "fiddling with regularization, and time to achieve the perfect result.\n"
   ]
  },
  {
   "cell_type": "code",
   "execution_count": null,
   "metadata": {},
   "outputs": [],
   "source": []
  },
  {
   "cell_type": "markdown",
   "metadata": {},
   "source": [
    "### Word Embedding\n",
    "Now lets look at the learned embedding of words in our dictionary "
   ]
  },
  {
   "cell_type": "code",
   "execution_count": null,
   "metadata": {},
   "outputs": [],
   "source": [
    "# Get the word encoding from the \"embedding\" layer\n",
    "weights = model.get_layer('embedding').get_weights()[0]"
   ]
  },
  {
   "cell_type": "code",
   "execution_count": null,
   "metadata": {},
   "outputs": [],
   "source": [
    "word = 'king' \n",
    "word_number = word_to_id.get(word)\n",
    "print(\"Its vector values:\", weights[word_number])"
   ]
  },
  {
   "cell_type": "code",
   "execution_count": null,
   "metadata": {},
   "outputs": [],
   "source": []
  },
  {
   "cell_type": "markdown",
   "metadata": {},
   "source": [
    "Let's align each words with its associated word embedding \n",
    "by represeting word dictionary and their embedding in a pandas data frame"
   ]
  },
  {
   "cell_type": "code",
   "execution_count": null,
   "metadata": {},
   "outputs": [],
   "source": [
    "Word_df = pd.DataFrame.from_dict(id_to_word, orient='index', columns=['Word']).sort_index()\n",
    "weigts_df = pd.DataFrame(weights)\n",
    "Word_df = pd.concat([Word_df, weigts_df], axis=1)"
   ]
  },
  {
   "cell_type": "markdown",
   "metadata": {},
   "source": [
    "#### Lets view a few words and their associated embedding in a 2D space. \n",
    "We only consider 300 words here. Remember our model is build on 10,000 words."
   ]
  },
  {
   "cell_type": "code",
   "execution_count": null,
   "metadata": {},
   "outputs": [],
   "source": [
    "Word_df_sample = Word_df.iloc[300:600]\n",
    "Word_df_sample.set_index('Word',inplace =True)"
   ]
  },
  {
   "cell_type": "code",
   "execution_count": null,
   "metadata": {},
   "outputs": [],
   "source": [
    "Word_df_sample.head(10)"
   ]
  },
  {
   "cell_type": "markdown",
   "metadata": {},
   "source": [
    "#### Convert 20 dimensional embedding into two dimensional space using PCA "
   ]
  },
  {
   "cell_type": "code",
   "execution_count": null,
   "metadata": {},
   "outputs": [],
   "source": [
    "X_corr=Word_df_sample.corr()\n",
    "\n",
    "#Computing eigen values and eigen vectors\n",
    "values,vectors=np.linalg.eig(X_corr)\n",
    "\n",
    "#Sorting the eigen vectors coresponding to eigen values in descending order\n",
    "args = (-values).argsort()\n",
    "values = vectors[args]\n",
    "vectors = vectors[:, args]\n",
    "\n",
    "#Taking first 2 components which explain maximum variance for projecting\n",
    "new_vectors=vectors[:,:2]\n",
    "\n",
    "#Projecting it onto new dimesion with 2 axis\n",
    "neww_X=np.dot(Word_df_sample,new_vectors)"
   ]
  },
  {
   "cell_type": "code",
   "execution_count": null,
   "metadata": {},
   "outputs": [],
   "source": [
    "plt.figure(figsize=(14,8))\n",
    "plt.scatter(neww_X[:,0],neww_X[:,1], linewidths=2, s = 1, color='blue',)\n",
    "plt.xlabel(\"PC1\",size=10)\n",
    "plt.ylabel(\"PC2\",size=10)\n",
    "plt.title(\"Word Embedding Space\",size=10)\n",
    "vocab=list(Word_df_sample.index)\n",
    "for i, word in enumerate(vocab):\n",
    "    plt.annotate(word,xy=(neww_X[i,0],neww_X[i,1]),color='black')"
   ]
  },
  {
   "cell_type": "code",
   "execution_count": null,
   "metadata": {},
   "outputs": [],
   "source": []
  },
  {
   "cell_type": "code",
   "execution_count": null,
   "metadata": {},
   "outputs": [],
   "source": []
  }
 ],
 "metadata": {
  "kernelspec": {
   "display_name": "Python 3",
   "language": "python",
   "name": "python3"
  },
  "language_info": {
   "codemirror_mode": {
    "name": "ipython",
    "version": 3
   },
   "file_extension": ".py",
   "mimetype": "text/x-python",
   "name": "python",
   "nbconvert_exporter": "python",
   "pygments_lexer": "ipython3",
   "version": "3.7.4"
  }
 },
 "nbformat": 4,
 "nbformat_minor": 4
}
