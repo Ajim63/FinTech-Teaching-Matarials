{
 "cells": [
  {
   "cell_type": "markdown",
   "metadata": {},
   "source": [
    "---\n",
    "Title: \"deeplearning-lab\"\n",
    "---"
   ]
  },
  {
   "cell_type": "markdown",
   "metadata": {},
   "source": [
    "### Author: Ajim Uddin"
   ]
  },
  {
   "cell_type": "markdown",
   "metadata": {},
   "source": [
    "\n",
    "# Lab: Deep Learning\n",
    "\n",
    "In this iPython Notebook, I show how to fit the examples discussed in the book  \n",
    "**`An Introduction to Statistical Learning`** (G. James, D. Witten, T. Hastie, and R. Tibshirani). I use the `keras` package, which interfaces to the\n",
    "`tensorflow` package which in turn links to efficient\n",
    "`python` code. \n",
    "\n",
    "Getting `keras` up and running on your computer can be a\n",
    "challenge. Guidance can also be found at [https://keras.io/](https://keras.io/))\n",
    "\n",
    "#### This notebook consist of following deep neaural network and its applicatipn to some real world data\n",
    "###### 1. Hitters: Baseball Data used in `An Introduction to Statistical Learning` book; DL Models: LASSO and Multilayer Perceptron (MLP)\n",
    "###### 2. MNIST Digit Data: Handwritten Digit Recognition Dataset (http://yann.lecun.com/exdb/mnist/); DL Models: Multilayer Perceptron and Convolutional Neural Networks\n",
    "###### 3.  CIFAR Data: Image Recognition Data (https://www.cs.toronto.edu/~kriz/cifar.html); DL Models:  Deep Convolutional Neural Networks\n",
    "###### 4. IMDb Data: Document Classification and Sentiment Analysis Data: DL Models:Multilayer Perceptron\n",
    "###### 5. Stock Market Data: Used in `An Introduction to Statistical Learning` book; DL Model: Time seris prediction with Deep Neural Network\n",
    "\n",
    "\n",
    "#### Important note: In order to run this python notebook you need the following dependencies\n",
    "pandas; numpy; matplotlib (for ploting figures); pyreader (for reading R data); scikit-learn (for machine learning models); keras (for deep learning models); tensorflow (for running keres in the backend); If your machine don't have these libraries installed, you will see an error when you try to run this module. If you encounter an error first install the libraries. "
   ]
  },
  {
   "cell_type": "markdown",
   "metadata": {},
   "source": [
    "## Single Layer Network on Hitters Data\n",
    "\n",
    "We start by fitting the models with the Hitters Data `Book section 10.6`\n",
    "We set up the data, and separate out a training and\n",
    "test set."
   ]
  },
  {
   "cell_type": "code",
   "execution_count": null,
   "metadata": {},
   "outputs": [],
   "source": []
  },
  {
   "cell_type": "code",
   "execution_count": 4,
   "metadata": {},
   "outputs": [],
   "source": [
    "# get some python librarys. \n",
    "import pandas as pd\n",
    "import numpy as np\n",
    "import matplotlib.pyplot as plt\n",
    "import seaborn as sns\n",
    "import random\n",
    "import pyreadr\n",
    "from matplotlib import pyplot\n",
    "\n",
    "from sklearn.model_selection import train_test_split\n",
    "import sklearn.linear_model  as LM \n",
    "\n",
    "import warnings\n",
    "warnings.filterwarnings(\"ignore\")\n"
   ]
  },
  {
   "cell_type": "code",
   "execution_count": null,
   "metadata": {},
   "outputs": [],
   "source": []
  },
  {
   "cell_type": "code",
   "execution_count": 5,
   "metadata": {},
   "outputs": [],
   "source": [
    "# read data from the folder. Make sure to put your data folder in the same file as you python notebook folder\n",
    "Data = pyreadr.read_r('data/Hitters.rda')\n",
    "Data = Data['Hitters']"
   ]
  },
  {
   "cell_type": "code",
   "execution_count": 6,
   "metadata": {},
   "outputs": [],
   "source": [
    "#Drop Missing Values\n",
    "Data.dropna(inplace = True)\n",
    "n = Data.shape[0]\n"
   ]
  },
  {
   "cell_type": "code",
   "execution_count": 7,
   "metadata": {},
   "outputs": [
    {
     "data": {
      "text/plain": [
       "AtBat           int32\n",
       "Hits            int32\n",
       "HmRun           int32\n",
       "Runs            int32\n",
       "RBI             int32\n",
       "Walks           int32\n",
       "Years           int32\n",
       "CAtBat          int32\n",
       "CHits           int32\n",
       "CHmRun          int32\n",
       "CRuns           int32\n",
       "CRBI            int32\n",
       "CWalks          int32\n",
       "League       category\n",
       "Division     category\n",
       "PutOuts         int32\n",
       "Assists         int32\n",
       "Errors          int32\n",
       "Salary        float64\n",
       "NewLeague    category\n",
       "dtype: object"
      ]
     },
     "execution_count": 7,
     "metadata": {},
     "output_type": "execute_result"
    }
   ],
   "source": [
    "# there are some catagorical variables in the dataset, first let convert them to numeric\n",
    "Data.dtypes"
   ]
  },
  {
   "cell_type": "code",
   "execution_count": 8,
   "metadata": {},
   "outputs": [],
   "source": [
    "cat_columns = Data.select_dtypes(['category']).columns\n",
    "Data[cat_columns] = Data[cat_columns].apply(lambda x: x.cat.codes)"
   ]
  },
  {
   "cell_type": "code",
   "execution_count": 10,
   "metadata": {},
   "outputs": [],
   "source": [
    "#divide the data into training and testing sub-samples, this could be easily done by Scikit learn train_test_split function\n",
    "X_Data = Data.drop('Salary', axis=1)\n",
    "Y_Data = Data['Salary']\n",
    "\n",
    "#get_train test sample \n",
    "\n",
    "X_train, X_test, y_train, y_test = train_test_split(X_Data,Y_Data, test_size=0.33, random_state=42)"
   ]
  },
  {
   "cell_type": "markdown",
   "metadata": {},
   "source": [
    "To fit the neural network, we first set up a model structure\n",
    "that describes the network."
   ]
  },
  {
   "cell_type": "code",
   "execution_count": 15,
   "metadata": {},
   "outputs": [
    {
     "data": {
      "text/plain": [
       "260.490338223334"
      ]
     },
     "execution_count": 15,
     "metadata": {},
     "output_type": "execute_result"
    }
   ],
   "source": [
    "#First lets fit a Linear Model\n",
    "\n",
    "lfit = LM.LinearRegression().fit(X_train, y_train.values)\n",
    "lpred = lfit.predict(X_test)\n",
    "#Calculate mean absolute error for the linear model predction\n",
    "np.mean(np.abs(lpred - y_test.values))"
   ]
  },
  {
   "cell_type": "code",
   "execution_count": null,
   "metadata": {},
   "outputs": [],
   "source": []
  },
  {
   "cell_type": "code",
   "execution_count": 16,
   "metadata": {},
   "outputs": [
    {
     "name": "stderr",
     "output_type": "stream",
     "text": [
      "/Users/ajimuddin/opt/anaconda3/lib/python3.7/site-packages/sklearn/linear_model/_coordinate_descent.py:476: ConvergenceWarning: Objective did not converge. You might want to increase the number of iterations. Duality gap: 5937874.182269228, tolerance: 3236.3996750106994\n",
      "  positive)\n"
     ]
    },
    {
     "data": {
      "text/plain": [
       "261.3567020157336"
      ]
     },
     "execution_count": 16,
     "metadata": {},
     "output_type": "execute_result"
    }
   ],
   "source": [
    "## Fit LASSO \n",
    "clf = LM.Lasso(alpha=0.1)\n",
    "lassofit = clf.fit(X_train, y_train.values)\n",
    "\n",
    "lassopred = lassofit.predict(X_test)\n",
    "#Calculate mean absolute error for the linear model predction\n",
    "np.mean(np.abs(lassopred - y_test.values))"
   ]
  },
  {
   "cell_type": "code",
   "execution_count": null,
   "metadata": {},
   "outputs": [],
   "source": []
  },
  {
   "cell_type": "markdown",
   "metadata": {},
   "source": [
    "### A simple vanila deep neural network "
   ]
  },
  {
   "cell_type": "code",
   "execution_count": 18,
   "metadata": {},
   "outputs": [],
   "source": [
    "# we need to import keres libraries for deep learning model. \n",
    "import tensorflow as tf \n",
    "import keras\n",
    "from tensorflow.keras.models import Sequential\n",
    "from tensorflow.keras.layers import Dense, Dropout"
   ]
  },
  {
   "cell_type": "code",
   "execution_count": null,
   "metadata": {},
   "outputs": [],
   "source": []
  },
  {
   "cell_type": "code",
   "execution_count": 20,
   "metadata": {},
   "outputs": [
    {
     "name": "stdout",
     "output_type": "stream",
     "text": [
      "Model: \"sequential\"\n",
      "_________________________________________________________________\n",
      "Layer (type)                 Output Shape              Param #   \n",
      "=================================================================\n",
      "dense (Dense)                (None, 50)                1000      \n",
      "_________________________________________________________________\n",
      "dropout (Dropout)            (None, 50)                0         \n",
      "_________________________________________________________________\n",
      "dense_1 (Dense)              (None, 1)                 51        \n",
      "=================================================================\n",
      "Total params: 1,051\n",
      "Trainable params: 1,051\n",
      "Non-trainable params: 0\n",
      "_________________________________________________________________\n"
     ]
    }
   ],
   "source": [
    "# Neural network\n",
    "model = Sequential()\n",
    "model.add(Dense(50, input_dim=X_train.shape[1], activation='relu'))\n",
    "model.add(Dropout(rate = 0.4))\n",
    "model.add(Dense(1))\n",
    "model.summary()"
   ]
  },
  {
   "cell_type": "markdown",
   "metadata": {},
   "source": [
    "We have created a vanilla model\n",
    "object called `model`, and have added details about the successive\n",
    "layers in a sequential manner, using the function `keras_model_sequential()`.\n",
    "model.summary() print the structure of the keres network\n"
   ]
  },
  {
   "cell_type": "code",
   "execution_count": 21,
   "metadata": {},
   "outputs": [],
   "source": [
    "model.compile(loss='mse', optimizer='adam', metrics=[\"mean_absolute_error\"])\n"
   ]
  },
  {
   "cell_type": "markdown",
   "metadata": {},
   "source": [
    "Next we add details to  `model` that control the fitting\n",
    "algorithm. Here we have simply followed the examples given in\n",
    "the Keras book. We minimize squared-error loss as in\n",
    "(10.22). The algorithm\n",
    "tracks the mean absolute error on the training data, and\n",
    "on validation data if it is supplied."
   ]
  },
  {
   "cell_type": "markdown",
   "metadata": {},
   "source": [
    "In the previous line, the operator passes `model` as the first argument to `compile()`. The `compile()` function does not actually change the python\n",
    "object `model`, but it does communicate these specifications to\n",
    "the corresponding `python` instance of this model that has been created\n",
    "along the way.\n",
    "\n",
    "Now we fit the model. We supply the training data and  two\n",
    "fitting parameters, `epochs` and `batch\\_size`. Using 32\n",
    "for the latter means that at each step of SGD, the algorithm randomly\n",
    "selects 32 training observations for the computation of the gradient. Recall from\n",
    "Sections 10.4 and 10.7\n",
    "that an epoch amounts to the number of SGD steps required to process $n$\n",
    "observations. Since the training set has\n",
    "$n=176$, an epoch is $176/32=5.5$ SGD steps. The `fit()` function has an argument\n",
    "`validation_data`; these data are not used in the fitting,\n",
    "but can be used to track the progress of the model (in this case reporting\n",
    "mean absolute error). Here we\n",
    "actually supply the test data so we can see mean absolute error of both the\n",
    "training data and test data as the epochs proceed. To see more options\n",
    "for fitting, use `?fit.keras.engine.training.Model`."
   ]
  },
  {
   "cell_type": "code",
   "execution_count": 23,
   "metadata": {},
   "outputs": [
    {
     "name": "stdout",
     "output_type": "stream",
     "text": [
      "Epoch 1/50\n",
      "WARNING:tensorflow:AutoGraph could not transform <function Model.make_train_function.<locals>.train_function at 0x14d5b2830> and will run it as-is.\n",
      "Please report this to the TensorFlow team. When filing the bug, set the verbosity to 10 (on Linux, `export AUTOGRAPH_VERBOSITY=10`) and attach the full output.\n",
      "Cause: 'arguments' object has no attribute 'posonlyargs'\n",
      "To silence this warning, decorate the function with @tf.autograph.experimental.do_not_convert\n",
      "WARNING: AutoGraph could not transform <function Model.make_train_function.<locals>.train_function at 0x14d5b2830> and will run it as-is.\n",
      "Please report this to the TensorFlow team. When filing the bug, set the verbosity to 10 (on Linux, `export AUTOGRAPH_VERBOSITY=10`) and attach the full output.\n",
      "Cause: 'arguments' object has no attribute 'posonlyargs'\n",
      "To silence this warning, decorate the function with @tf.autograph.experimental.do_not_convert\n",
      "1/6 [====>.........................] - ETA: 2s - loss: 187929.1719 - mean_absolute_error: 324.7435WARNING:tensorflow:AutoGraph could not transform <function Model.make_test_function.<locals>.test_function at 0x14de4dd40> and will run it as-is.\n",
      "Please report this to the TensorFlow team. When filing the bug, set the verbosity to 10 (on Linux, `export AUTOGRAPH_VERBOSITY=10`) and attach the full output.\n",
      "Cause: 'arguments' object has no attribute 'posonlyargs'\n",
      "To silence this warning, decorate the function with @tf.autograph.experimental.do_not_convert\n",
      "WARNING: AutoGraph could not transform <function Model.make_test_function.<locals>.test_function at 0x14de4dd40> and will run it as-is.\n",
      "Please report this to the TensorFlow team. When filing the bug, set the verbosity to 10 (on Linux, `export AUTOGRAPH_VERBOSITY=10`) and attach the full output.\n",
      "Cause: 'arguments' object has no attribute 'posonlyargs'\n",
      "To silence this warning, decorate the function with @tf.autograph.experimental.do_not_convert\n",
      "6/6 [==============================] - 1s 43ms/step - loss: 976611.3013 - mean_absolute_error: 557.6240 - val_loss: 512410.3125 - val_mean_absolute_error: 466.1526\n",
      "Epoch 2/50\n",
      "6/6 [==============================] - 0s 12ms/step - loss: 852101.7232 - mean_absolute_error: 566.2639 - val_loss: 347555.4062 - val_mean_absolute_error: 385.4398\n",
      "Epoch 3/50\n",
      "6/6 [==============================] - 0s 13ms/step - loss: 741548.4911 - mean_absolute_error: 493.7957 - val_loss: 268145.9688 - val_mean_absolute_error: 347.6045\n",
      "Epoch 4/50\n",
      "6/6 [==============================] - 0s 19ms/step - loss: 239442.9152 - mean_absolute_error: 326.4293 - val_loss: 240983.5156 - val_mean_absolute_error: 330.5569\n",
      "Epoch 5/50\n",
      "6/6 [==============================] - 0s 15ms/step - loss: 375655.4732 - mean_absolute_error: 407.8889 - val_loss: 234248.9219 - val_mean_absolute_error: 324.8423\n",
      "Epoch 6/50\n",
      "6/6 [==============================] - 0s 12ms/step - loss: 266541.9219 - mean_absolute_error: 350.0261 - val_loss: 234115.3281 - val_mean_absolute_error: 322.1526\n",
      "Epoch 7/50\n",
      "6/6 [==============================] - 0s 10ms/step - loss: 404881.3214 - mean_absolute_error: 429.7917 - val_loss: 232649.6250 - val_mean_absolute_error: 317.9035\n",
      "Epoch 8/50\n",
      "6/6 [==============================] - 0s 16ms/step - loss: 538106.3527 - mean_absolute_error: 449.0392 - val_loss: 231857.5156 - val_mean_absolute_error: 313.6458\n",
      "Epoch 9/50\n",
      "6/6 [==============================] - 0s 13ms/step - loss: 306479.6406 - mean_absolute_error: 342.0658 - val_loss: 224400.8750 - val_mean_absolute_error: 305.4273\n",
      "Epoch 10/50\n",
      "6/6 [==============================] - 0s 13ms/step - loss: 355901.3438 - mean_absolute_error: 374.9169 - val_loss: 213815.5625 - val_mean_absolute_error: 297.2195\n",
      "Epoch 11/50\n",
      "6/6 [==============================] - 0s 32ms/step - loss: 341846.9643 - mean_absolute_error: 368.2817 - val_loss: 208645.1094 - val_mean_absolute_error: 292.4629\n",
      "Epoch 12/50\n",
      "6/6 [==============================] - 0s 12ms/step - loss: 236455.1808 - mean_absolute_error: 326.2440 - val_loss: 201479.9062 - val_mean_absolute_error: 287.6758\n",
      "Epoch 13/50\n",
      "6/6 [==============================] - 0s 11ms/step - loss: 288469.0536 - mean_absolute_error: 340.1505 - val_loss: 194108.3281 - val_mean_absolute_error: 283.6564\n",
      "Epoch 14/50\n",
      "6/6 [==============================] - 0s 11ms/step - loss: 376770.6161 - mean_absolute_error: 363.5820 - val_loss: 186757.3594 - val_mean_absolute_error: 279.9816\n",
      "Epoch 15/50\n",
      "6/6 [==============================] - 0s 11ms/step - loss: 269365.8527 - mean_absolute_error: 353.1279 - val_loss: 183298.6719 - val_mean_absolute_error: 282.0928\n",
      "Epoch 16/50\n",
      "6/6 [==============================] - 0s 11ms/step - loss: 296923.9621 - mean_absolute_error: 350.0827 - val_loss: 181152.7344 - val_mean_absolute_error: 280.1331\n",
      "Epoch 17/50\n",
      "6/6 [==============================] - 0s 12ms/step - loss: 214946.1384 - mean_absolute_error: 313.3164 - val_loss: 179298.5156 - val_mean_absolute_error: 274.3260\n",
      "Epoch 18/50\n",
      "6/6 [==============================] - 0s 12ms/step - loss: 239372.1942 - mean_absolute_error: 306.9126 - val_loss: 177780.8906 - val_mean_absolute_error: 272.2090\n",
      "Epoch 19/50\n",
      "6/6 [==============================] - 0s 11ms/step - loss: 235105.1964 - mean_absolute_error: 316.6987 - val_loss: 176819.6719 - val_mean_absolute_error: 269.0710\n",
      "Epoch 20/50\n",
      "6/6 [==============================] - 0s 11ms/step - loss: 259677.2746 - mean_absolute_error: 330.0560 - val_loss: 175878.5469 - val_mean_absolute_error: 266.5963\n",
      "Epoch 21/50\n",
      "6/6 [==============================] - 0s 10ms/step - loss: 298999.6629 - mean_absolute_error: 353.2706 - val_loss: 175834.1406 - val_mean_absolute_error: 264.1927\n",
      "Epoch 22/50\n",
      "6/6 [==============================] - 0s 11ms/step - loss: 186310.2835 - mean_absolute_error: 280.5730 - val_loss: 179251.1250 - val_mean_absolute_error: 262.1204\n",
      "Epoch 23/50\n",
      "6/6 [==============================] - 0s 11ms/step - loss: 253808.4955 - mean_absolute_error: 318.1255 - val_loss: 178744.7188 - val_mean_absolute_error: 260.7146\n",
      "Epoch 24/50\n",
      "6/6 [==============================] - 0s 13ms/step - loss: 174049.7054 - mean_absolute_error: 277.2394 - val_loss: 176261.5781 - val_mean_absolute_error: 258.8406\n",
      "Epoch 25/50\n",
      "6/6 [==============================] - 0s 15ms/step - loss: 189080.2121 - mean_absolute_error: 281.0625 - val_loss: 174164.9531 - val_mean_absolute_error: 257.3105\n",
      "Epoch 26/50\n",
      "6/6 [==============================] - 0s 10ms/step - loss: 171059.1183 - mean_absolute_error: 274.9247 - val_loss: 170495.4219 - val_mean_absolute_error: 256.4811\n",
      "Epoch 27/50\n",
      "6/6 [==============================] - 0s 15ms/step - loss: 178606.8504 - mean_absolute_error: 273.1537 - val_loss: 168361.3438 - val_mean_absolute_error: 256.8124\n",
      "Epoch 28/50\n",
      "6/6 [==============================] - 0s 11ms/step - loss: 174433.3795 - mean_absolute_error: 285.5498 - val_loss: 167447.7656 - val_mean_absolute_error: 258.4618\n",
      "Epoch 29/50\n",
      "6/6 [==============================] - 0s 11ms/step - loss: 147725.1596 - mean_absolute_error: 254.5486 - val_loss: 167933.2969 - val_mean_absolute_error: 262.5329\n",
      "Epoch 30/50\n",
      "6/6 [==============================] - 0s 12ms/step - loss: 172561.1250 - mean_absolute_error: 269.3444 - val_loss: 166567.9844 - val_mean_absolute_error: 257.0361\n",
      "Epoch 31/50\n",
      "6/6 [==============================] - 0s 11ms/step - loss: 173244.3080 - mean_absolute_error: 261.3704 - val_loss: 166970.5781 - val_mean_absolute_error: 248.5177\n",
      "Epoch 32/50\n",
      "6/6 [==============================] - 0s 12ms/step - loss: 190079.1339 - mean_absolute_error: 292.3452 - val_loss: 170984.4062 - val_mean_absolute_error: 245.0234\n",
      "Epoch 33/50\n",
      "6/6 [==============================] - 0s 10ms/step - loss: 211277.8371 - mean_absolute_error: 282.1107 - val_loss: 171468.5469 - val_mean_absolute_error: 244.6075\n",
      "Epoch 34/50\n",
      "6/6 [==============================] - 0s 11ms/step - loss: 141698.9676 - mean_absolute_error: 255.7761 - val_loss: 168895.1562 - val_mean_absolute_error: 242.9771\n",
      "Epoch 35/50\n",
      "6/6 [==============================] - 0s 11ms/step - loss: 129632.5960 - mean_absolute_error: 250.2640 - val_loss: 164815.6719 - val_mean_absolute_error: 243.9798\n",
      "Epoch 36/50\n",
      "6/6 [==============================] - 0s 10ms/step - loss: 159635.6842 - mean_absolute_error: 265.6196 - val_loss: 163336.1094 - val_mean_absolute_error: 245.0029\n"
     ]
    },
    {
     "name": "stdout",
     "output_type": "stream",
     "text": [
      "Epoch 37/50\n",
      "6/6 [==============================] - 0s 10ms/step - loss: 137599.7009 - mean_absolute_error: 238.9561 - val_loss: 163289.3125 - val_mean_absolute_error: 244.1969\n",
      "Epoch 38/50\n",
      "6/6 [==============================] - 0s 10ms/step - loss: 163404.6808 - mean_absolute_error: 252.9676 - val_loss: 163996.5625 - val_mean_absolute_error: 243.1234\n",
      "Epoch 39/50\n",
      "6/6 [==============================] - 0s 12ms/step - loss: 189382.6540 - mean_absolute_error: 273.2313 - val_loss: 164486.7656 - val_mean_absolute_error: 241.8484\n",
      "Epoch 40/50\n",
      "6/6 [==============================] - 0s 11ms/step - loss: 176942.3103 - mean_absolute_error: 272.0963 - val_loss: 163681.0625 - val_mean_absolute_error: 240.7972\n",
      "Epoch 41/50\n",
      "6/6 [==============================] - 0s 11ms/step - loss: 133232.5413 - mean_absolute_error: 223.4344 - val_loss: 163799.7500 - val_mean_absolute_error: 239.0889\n",
      "Epoch 42/50\n",
      "6/6 [==============================] - 0s 13ms/step - loss: 165538.0469 - mean_absolute_error: 273.1296 - val_loss: 162130.2500 - val_mean_absolute_error: 238.8324\n",
      "Epoch 43/50\n",
      "6/6 [==============================] - 0s 11ms/step - loss: 202510.9933 - mean_absolute_error: 300.9910 - val_loss: 161613.7969 - val_mean_absolute_error: 237.7158\n",
      "Epoch 44/50\n",
      "6/6 [==============================] - 0s 10ms/step - loss: 85301.6194 - mean_absolute_error: 208.8869 - val_loss: 162108.7969 - val_mean_absolute_error: 236.1129\n",
      "Epoch 45/50\n",
      "6/6 [==============================] - 0s 12ms/step - loss: 189582.2790 - mean_absolute_error: 264.7157 - val_loss: 160627.9375 - val_mean_absolute_error: 238.3214\n",
      "Epoch 46/50\n",
      "6/6 [==============================] - 0s 9ms/step - loss: 157769.6719 - mean_absolute_error: 283.0352 - val_loss: 159617.1562 - val_mean_absolute_error: 241.0454\n",
      "Epoch 47/50\n",
      "6/6 [==============================] - 0s 10ms/step - loss: 132542.2679 - mean_absolute_error: 237.9504 - val_loss: 159394.3594 - val_mean_absolute_error: 243.7094\n",
      "Epoch 48/50\n",
      "6/6 [==============================] - 0s 9ms/step - loss: 168328.3281 - mean_absolute_error: 257.0425 - val_loss: 159365.9531 - val_mean_absolute_error: 240.4930\n",
      "Epoch 49/50\n",
      "6/6 [==============================] - 0s 10ms/step - loss: 106003.1194 - mean_absolute_error: 214.2422 - val_loss: 159601.4219 - val_mean_absolute_error: 238.2886\n",
      "Epoch 50/50\n",
      "6/6 [==============================] - 0s 9ms/step - loss: 144379.1239 - mean_absolute_error: 245.2224 - val_loss: 160306.0156 - val_mean_absolute_error: 236.5722\n"
     ]
    }
   ],
   "source": [
    "#history = model.fit(X_train, y_train.values, epochs=100, batch_size=32)\n",
    "\n",
    "history = model.fit(X_train, y_train.values,validation_data = (X_test,y_test.values), epochs=50, batch_size=32)"
   ]
  },
  {
   "cell_type": "markdown",
   "metadata": {},
   "source": [
    "*(Here and elsewhere we have reduced the number of epochs to make\n",
    "    runtimes manageable; users can of course change back)*\n",
    "\n",
    "We can plot the `history` to display the mean absolute error for the training and test data. "
   ]
  },
  {
   "cell_type": "code",
   "execution_count": 26,
   "metadata": {},
   "outputs": [
    {
     "data": {
      "image/png": "[encoded data removed]",
      "text/plain": [
       "<Figure size 432x288 with 1 Axes>"
      ]
     },
     "metadata": {
      "needs_background": "light"
     },
     "output_type": "display_data"
    }
   ],
   "source": [
    "plt.plot(history.history['loss']) \n",
    "plt.plot(history.history['val_loss']) \n",
    "plt.title('Model loss') \n",
    "plt.ylabel('Loss') \n",
    "plt.xlabel('Epoch') \n",
    "plt.legend(['Train', 'Test'], loc='upper left') \n",
    "plt.show()"
   ]
  },
  {
   "cell_type": "markdown",
   "metadata": {},
   "source": [
    "Finally, we predict from the final model, and\n",
    "evaluate its performance on the test data. Due to the use of SGD, the results vary slightly with each\n",
    "fit. Unfortunately the `set.seed()` function does not ensure\n",
    "identical results (since the fitting is done in `python`), so your results will differ slightly.\n"
   ]
  },
  {
   "cell_type": "code",
   "execution_count": 31,
   "metadata": {},
   "outputs": [
    {
     "data": {
      "text/plain": [
       "236.57221235516428"
      ]
     },
     "execution_count": 31,
     "metadata": {},
     "output_type": "execute_result"
    }
   ],
   "source": [
    "\n",
    "#check the prediction accuracy\n",
    "y_pred = model.predict(X_test).reshape(-1)\n",
    "np.mean(np.abs(y_pred - y_test.values))"
   ]
  },
  {
   "cell_type": "code",
   "execution_count": null,
   "metadata": {},
   "outputs": [],
   "source": []
  },
  {
   "cell_type": "code",
   "execution_count": null,
   "metadata": {},
   "outputs": [],
   "source": []
  },
  {
   "cell_type": "markdown",
   "metadata": {},
   "source": [
    "##MNIST Data Set\n",
    "\n",
    "## Multilayer Network on the MNIST Digit Data\n",
    "\n",
    "The `keras` package comes with a number of example datasets,\n",
    "including the `MNIST` digit data. Our first step is to load the\n",
    "`MNIST` data. The `dataset_mnist()` function is provided for this purpose."
   ]
  },
  {
   "cell_type": "code",
   "execution_count": 32,
   "metadata": {},
   "outputs": [],
   "source": [
    "## Get libraries for tensorflow and keres. \n",
    "from tensorflow.keras.datasets import mnist\n",
    "from tensorflow.keras.layers import Conv2D, MaxPooling2D, Flatten\n",
    "from tensorflow.keras import backend as K\n",
    "\n",
    "from tensorflow.keras import callbacks\n",
    "\n",
    "from tensorflow.keras.optimizers import RMSprop\n",
    "\n",
    "from tensorflow.keras.losses import sparse_categorical_crossentropy, categorical_crossentropy\n",
    "\n"
   ]
  },
  {
   "cell_type": "code",
   "execution_count": 33,
   "metadata": {},
   "outputs": [],
   "source": [
    "## load the MNIST data\n",
    "(x_train, y_train), (x_test, y_test) = mnist.load_data()"
   ]
  },
  {
   "cell_type": "code",
   "execution_count": 34,
   "metadata": {},
   "outputs": [
    {
     "name": "stdout",
     "output_type": "stream",
     "text": [
      "Train data shape: (60000, 28, 28)\n",
      "Test data shape: (10000, 28, 28)\n"
     ]
    }
   ],
   "source": [
    "print('Train data shape:', x_train.shape)\n",
    "print('Test data shape:', x_test.shape)"
   ]
  },
  {
   "cell_type": "markdown",
   "metadata": {},
   "source": [
    "There are 60,000 images in the training data and 10,000 in the test data. The images are $28\\times 28$, and stored as a three-dimensional array,\n",
    "so we need to reshape them into a matrix.  Also, we need to ``one-hot''\n",
    "encode the class label. Luckily `keras` has a lot of built-in\n",
    "functions that do this for us."
   ]
  },
  {
   "cell_type": "code",
   "execution_count": 35,
   "metadata": {},
   "outputs": [],
   "source": [
    "# input image dimensions\n",
    "img_rows, img_cols = 28, 28"
   ]
  },
  {
   "cell_type": "code",
   "execution_count": 36,
   "metadata": {},
   "outputs": [],
   "source": [
    "x_train = x_train.reshape(x_train.shape[0], img_rows*img_cols)\n",
    "x_test = x_test.reshape(x_test.shape[0], img_rows*img_cols)\n",
    "#input_shape = (img_rows, img_cols, 1)"
   ]
  },
  {
   "cell_type": "code",
   "execution_count": 37,
   "metadata": {},
   "outputs": [],
   "source": [
    "# convert class vectors to binary class matrices\n",
    "num_classes = 10\n",
    "y_train = keras.utils.to_categorical(y_train, num_classes)\n",
    "y_test = keras.utils.to_categorical(y_test, num_classes)"
   ]
  },
  {
   "cell_type": "markdown",
   "metadata": {},
   "source": [
    "Neural networks are somewhat sensitive to the scale of the inputs. For example, ridge and\n",
    "lasso regularization are affected by scaling.  Here the inputs are eight-bit\n",
    "(Note: Eight bits means $2^8$, which equals 256. Since the convention\n",
    "is to start at $0$, the possible values  range from $0$ to $255$.)\n",
    "grayscale values between 0 and 255, so we rescale to the unit\n",
    "interval."
   ]
  },
  {
   "cell_type": "code",
   "execution_count": 38,
   "metadata": {},
   "outputs": [],
   "source": [
    "x_train = x_train.astype('float32')\n",
    "x_test = x_test.astype('float32')\n",
    "x_train /= 255\n",
    "x_test /= 255"
   ]
  },
  {
   "cell_type": "code",
   "execution_count": 39,
   "metadata": {},
   "outputs": [
    {
     "data": {
      "text/plain": [
       "(60000, 784)"
      ]
     },
     "execution_count": 39,
     "metadata": {},
     "output_type": "execute_result"
    }
   ],
   "source": [
    "x_train.shape"
   ]
  },
  {
   "cell_type": "markdown",
   "metadata": {},
   "source": [
    "Now we are ready to fit our neural network."
   ]
  },
  {
   "cell_type": "code",
   "execution_count": 40,
   "metadata": {},
   "outputs": [],
   "source": [
    "# Neural network\n",
    "model = Sequential()\n",
    "model.add(Dense(256, input_dim= x_train.shape[1], activation='relu'))\n",
    "model.add(Dropout(rate = 0.4))\n",
    "model.add(Dense(128, activation='relu'))\n",
    "model.add(Dropout(rate = 0.4))\n",
    "model.add(Dense(10,  activation = \"softmax\"))"
   ]
  },
  {
   "cell_type": "code",
   "execution_count": 41,
   "metadata": {},
   "outputs": [
    {
     "name": "stdout",
     "output_type": "stream",
     "text": [
      "Model: \"sequential_1\"\n",
      "_________________________________________________________________\n",
      "Layer (type)                 Output Shape              Param #   \n",
      "=================================================================\n",
      "dense_2 (Dense)              (None, 256)               200960    \n",
      "_________________________________________________________________\n",
      "dropout_1 (Dropout)          (None, 256)               0         \n",
      "_________________________________________________________________\n",
      "dense_3 (Dense)              (None, 128)               32896     \n",
      "_________________________________________________________________\n",
      "dropout_2 (Dropout)          (None, 128)               0         \n",
      "_________________________________________________________________\n",
      "dense_4 (Dense)              (None, 10)                1290      \n",
      "=================================================================\n",
      "Total params: 235,146\n",
      "Trainable params: 235,146\n",
      "Non-trainable params: 0\n",
      "_________________________________________________________________\n"
     ]
    }
   ],
   "source": [
    "model.summary()"
   ]
  },
  {
   "cell_type": "code",
   "execution_count": null,
   "metadata": {},
   "outputs": [],
   "source": []
  },
  {
   "cell_type": "markdown",
   "metadata": {},
   "source": [
    "The first layer goes from  $28\\times28=784$ input units to a hidden\n",
    "layer of $256$ units, which uses the ReLU activation function.\n",
    "This is specified by a call to `layer\\_dense()`, which takes as\n",
    "input a `modelnn` object, and returns a modified `modelnn`\n",
    "object.\n",
    "This is then piped through `layer\\_dropout()` to perform\n",
    "dropout regularization. The second hidden layer comes\n",
    "next, with $128$ hidden units, followed by a  dropout layer.\n",
    "The final layer is the output layer, with activation\n",
    "`\"softmax\"` (10.12) for the 10-class classification\n",
    "problem, which defines the map from the second hidden layer to class\n",
    "probabilities.\n",
    "Finally, we use `summary()` to summarize the model, and to make sure we got it\n",
    "all right.\n"
   ]
  },
  {
   "cell_type": "code",
   "execution_count": 43,
   "metadata": {},
   "outputs": [],
   "source": [
    "model.compile(loss = \"categorical_crossentropy\", \n",
    "              optimizer = tf.keras.optimizers.RMSprop(), metrics = tf.keras.metrics.Accuracy())"
   ]
  },
  {
   "cell_type": "markdown",
   "metadata": {},
   "source": [
    "Now we are ready to go. The final step is to supply training data, and fit the model."
   ]
  },
  {
   "cell_type": "code",
   "execution_count": 44,
   "metadata": {},
   "outputs": [
    {
     "name": "stdout",
     "output_type": "stream",
     "text": [
      "Epoch 1/25\n",
      "WARNING:tensorflow:AutoGraph could not transform <function Model.make_train_function.<locals>.train_function at 0x14de52d40> and will run it as-is.\n",
      "Please report this to the TensorFlow team. When filing the bug, set the verbosity to 10 (on Linux, `export AUTOGRAPH_VERBOSITY=10`) and attach the full output.\n",
      "Cause: 'arguments' object has no attribute 'posonlyargs'\n",
      "To silence this warning, decorate the function with @tf.autograph.experimental.do_not_convert\n",
      "WARNING: AutoGraph could not transform <function Model.make_train_function.<locals>.train_function at 0x14de52d40> and will run it as-is.\n",
      "Please report this to the TensorFlow team. When filing the bug, set the verbosity to 10 (on Linux, `export AUTOGRAPH_VERBOSITY=10`) and attach the full output.\n",
      "Cause: 'arguments' object has no attribute 'posonlyargs'\n",
      "To silence this warning, decorate the function with @tf.autograph.experimental.do_not_convert\n",
      "370/375 [============================>.] - ETA: 0s - loss: 0.7450 - accuracy: 1.9927e-05WARNING:tensorflow:AutoGraph could not transform <function Model.make_test_function.<locals>.test_function at 0x14de4def0> and will run it as-is.\n",
      "Please report this to the TensorFlow team. When filing the bug, set the verbosity to 10 (on Linux, `export AUTOGRAPH_VERBOSITY=10`) and attach the full output.\n",
      "Cause: 'arguments' object has no attribute 'posonlyargs'\n",
      "To silence this warning, decorate the function with @tf.autograph.experimental.do_not_convert\n",
      "WARNING: AutoGraph could not transform <function Model.make_test_function.<locals>.test_function at 0x14de4def0> and will run it as-is.\n",
      "Please report this to the TensorFlow team. When filing the bug, set the verbosity to 10 (on Linux, `export AUTOGRAPH_VERBOSITY=10`) and attach the full output.\n",
      "Cause: 'arguments' object has no attribute 'posonlyargs'\n",
      "To silence this warning, decorate the function with @tf.autograph.experimental.do_not_convert\n",
      "375/375 [==============================] - 2s 5ms/step - loss: 0.7405 - accuracy: 2.0683e-05 - val_loss: 0.1768 - val_accuracy: 1.6667e-05\n",
      "Epoch 2/25\n",
      "375/375 [==============================] - 2s 5ms/step - loss: 0.2247 - accuracy: 3.6510e-04 - val_loss: 0.1340 - val_accuracy: 8.5000e-04\n",
      "Epoch 3/25\n",
      "375/375 [==============================] - 2s 5ms/step - loss: 0.1694 - accuracy: 0.0016 - val_loss: 0.1144 - val_accuracy: 0.0033\n",
      "Epoch 4/25\n",
      "375/375 [==============================] - 2s 5ms/step - loss: 0.1438 - accuracy: 0.0038 - val_loss: 0.1022 - val_accuracy: 0.0068\n",
      "Epoch 5/25\n",
      "375/375 [==============================] - 2s 5ms/step - loss: 0.1171 - accuracy: 0.0069 - val_loss: 0.1003 - val_accuracy: 0.0096\n",
      "Epoch 6/25\n",
      "375/375 [==============================] - 2s 4ms/step - loss: 0.1087 - accuracy: 0.0094 - val_loss: 0.0941 - val_accuracy: 0.0107\n",
      "Epoch 7/25\n",
      "375/375 [==============================] - 2s 4ms/step - loss: 0.1010 - accuracy: 0.0112 - val_loss: 0.0949 - val_accuracy: 0.0152\n",
      "Epoch 8/25\n",
      "375/375 [==============================] - 2s 4ms/step - loss: 0.0924 - accuracy: 0.0145 - val_loss: 0.0975 - val_accuracy: 0.0192\n",
      "Epoch 9/25\n",
      "375/375 [==============================] - 2s 4ms/step - loss: 0.0848 - accuracy: 0.0175 - val_loss: 0.0905 - val_accuracy: 0.0233\n",
      "Epoch 10/25\n",
      "375/375 [==============================] - 2s 4ms/step - loss: 0.0812 - accuracy: 0.0210 - val_loss: 0.0987 - val_accuracy: 0.0293\n",
      "Epoch 11/25\n",
      "375/375 [==============================] - 2s 5ms/step - loss: 0.0878 - accuracy: 0.0234 - val_loss: 0.1042 - val_accuracy: 0.0360\n",
      "Epoch 12/25\n",
      "375/375 [==============================] - 2s 5ms/step - loss: 0.0746 - accuracy: 0.0292 - val_loss: 0.0996 - val_accuracy: 0.0352\n",
      "Epoch 13/25\n",
      "375/375 [==============================] - 2s 5ms/step - loss: 0.0765 - accuracy: 0.0301 - val_loss: 0.1006 - val_accuracy: 0.0365\n",
      "Epoch 14/25\n",
      "375/375 [==============================] - 2s 5ms/step - loss: 0.0653 - accuracy: 0.0368 - val_loss: 0.1011 - val_accuracy: 0.0421\n",
      "Epoch 15/25\n",
      "375/375 [==============================] - 2s 5ms/step - loss: 0.0675 - accuracy: 0.0388 - val_loss: 0.1020 - val_accuracy: 0.0451\n",
      "Epoch 16/25\n",
      "375/375 [==============================] - 2s 5ms/step - loss: 0.0673 - accuracy: 0.0426 - val_loss: 0.1074 - val_accuracy: 0.0472\n",
      "Epoch 17/25\n",
      "375/375 [==============================] - 2s 5ms/step - loss: 0.0666 - accuracy: 0.0442 - val_loss: 0.1057 - val_accuracy: 0.0522\n",
      "Epoch 18/25\n",
      "375/375 [==============================] - 2s 5ms/step - loss: 0.0643 - accuracy: 0.0499 - val_loss: 0.1054 - val_accuracy: 0.0558\n",
      "Epoch 19/25\n",
      "375/375 [==============================] - 2s 5ms/step - loss: 0.0632 - accuracy: 0.0543 - val_loss: 0.1195 - val_accuracy: 0.0646\n"
     ]
    }
   ],
   "source": [
    "history = model.fit(x_train, y_train, epochs=25, batch_size = 128, verbose=1, \n",
    "                    validation_split=0.2, \n",
    "                    callbacks=[callbacks.EarlyStopping(\n",
    "                        monitor=\"val_loss\", patience=10, restore_best_weights=True)])"
   ]
  },
  {
   "cell_type": "markdown",
   "metadata": {},
   "source": [
    "We have suppressed the output here, which is a progress report on the\n",
    "fitting of the model, grouped by epoch. This is very useful, since on\n",
    "large datasets fitting can take time.\n",
    "Here we specified a validation split of 20%, so the training is actually performed on\n",
    "80% of the 60,000 observations in the training set. This is an\n",
    "alternative to actually supplying validation data, like we did in\n",
    "Section 10.9.1. See\n",
    "`?fit.keras.engine.training.Model` for all the optional fitting arguments. SGD  uses batches\n",
    "of 128 observations in computing the gradient, and doing the\n",
    "arithmetic, we see that an epoch corresponds to 375 gradient steps.\n",
    "\n",
    "\n",
    "To obtain the test error in Table 10.1, we first write\n",
    "a simple function `accuracy()` that compares predicted and true\n",
    "class labels, and then use it to evaluate our predictions."
   ]
  },
  {
   "cell_type": "code",
   "execution_count": 46,
   "metadata": {
    "scrolled": true
   },
   "outputs": [
    {
     "data": {
      "image/png": "[encoded data removed]",
      "text/plain": [
       "<Figure size 288x576 with 2 Axes>"
      ]
     },
     "metadata": {
      "needs_background": "light"
     },
     "output_type": "display_data"
    }
   ],
   "source": [
    "# plotting the metrics\n",
    "fig = plt.figure(figsize =(4,8))\n",
    "plt.subplot(2,1,1)\n",
    "plt.plot(history.history['accuracy'])\n",
    "plt.plot(history.history['val_accuracy'])\n",
    "plt.title('Model Accuracy')\n",
    "plt.ylabel('accuracy')\n",
    "plt.xlabel('epoch')\n",
    "plt.legend(['train', 'validation'], loc='lower right')\n",
    "\n",
    "\n",
    "plt.subplot(2,1,2)\n",
    "plt.plot(history.history['loss'])\n",
    "plt.plot(history.history['val_loss'])\n",
    "plt.title('Model Loss')\n",
    "plt.ylabel('loss')\n",
    "plt.xlabel('epoch')\n",
    "plt.legend(['train', 'validation'], loc='upper right')\n",
    "plt.tight_layout()\n",
    "plt.show()"
   ]
  },
  {
   "cell_type": "code",
   "execution_count": null,
   "metadata": {},
   "outputs": [],
   "source": []
  },
  {
   "cell_type": "code",
   "execution_count": 47,
   "metadata": {},
   "outputs": [
    {
     "name": "stdout",
     "output_type": "stream",
     "text": [
      "Train loss: 0.04509206861257553\n",
      "Train accuracy: 0.02202666737139225\n"
     ]
    }
   ],
   "source": [
    "# Check  Training Accuracy \n",
    "Train_score = model.evaluate(x_train, y_train, verbose=0)\n",
    "print('Train loss:', Train_score[0])\n",
    "print('Train accuracy:', Train_score[1])"
   ]
  },
  {
   "cell_type": "code",
   "execution_count": 48,
   "metadata": {},
   "outputs": [
    {
     "name": "stdout",
     "output_type": "stream",
     "text": [
      "Test loss: 0.08193328231573105\n",
      "Test accuracy: 0.020679999142885208\n"
     ]
    }
   ],
   "source": [
    "# Check Testing Accuracy \n",
    "score = model.evaluate(x_test, y_test, verbose=0)\n",
    "print('Test loss:', score[0])\n",
    "print('Test accuracy:', score[1])"
   ]
  },
  {
   "cell_type": "code",
   "execution_count": null,
   "metadata": {},
   "outputs": [],
   "source": []
  },
  {
   "cell_type": "code",
   "execution_count": null,
   "metadata": {},
   "outputs": [],
   "source": []
  },
  {
   "cell_type": "code",
   "execution_count": null,
   "metadata": {},
   "outputs": [],
   "source": []
  },
  {
   "cell_type": "markdown",
   "metadata": {},
   "source": [
    "### Convolutional Neural Networks\n",
    "\n",
    "#### Instead of using a recurrent neural network for image prediction we can use a CNN \n",
    "First we apply CNN on  MNIST data and see the improvemnt.\n",
    "Then, we fit a CNN to the `CIFAR` data, which is available in the `keras`\n",
    "package. It is arranged in a similar fashion as the `MNIST` data."
   ]
  },
  {
   "cell_type": "code",
   "execution_count": 55,
   "metadata": {},
   "outputs": [],
   "source": [
    "## load data\n",
    "(x_train, y_train), (x_test, y_test) = mnist.load_data()\n"
   ]
  },
  {
   "cell_type": "markdown",
   "metadata": {},
   "source": [
    "#### Instead of reshaping the data into a matrix now we are reshaping the data in a four dimensional tensor and performing the other data cleaning procedure as the earlier section. "
   ]
  },
  {
   "cell_type": "code",
   "execution_count": 56,
   "metadata": {},
   "outputs": [],
   "source": [
    "\n",
    "x_train = x_train.reshape(x_train.shape[0], img_rows, img_cols, 1)\n",
    "x_test = x_test.reshape(x_test.shape[0], img_rows, img_cols, 1)\n",
    "input_shape = (img_rows, img_cols, 1)"
   ]
  },
  {
   "cell_type": "code",
   "execution_count": 57,
   "metadata": {},
   "outputs": [],
   "source": [
    "x_train = x_train.astype('float32')\n",
    "x_test = x_test.astype('float32')\n",
    "x_train /= 255\n",
    "x_test /= 255"
   ]
  },
  {
   "cell_type": "code",
   "execution_count": 58,
   "metadata": {},
   "outputs": [
    {
     "name": "stdout",
     "output_type": "stream",
     "text": [
      "x_train shape: (60000, 28, 28, 1)\n",
      "60000 train samples\n",
      "10000 test samples\n"
     ]
    }
   ],
   "source": [
    "print('x_train shape:', x_train.shape)\n",
    "print(x_train.shape[0], 'train samples')\n",
    "print(x_test.shape[0], 'test samples')"
   ]
  },
  {
   "cell_type": "code",
   "execution_count": 59,
   "metadata": {},
   "outputs": [],
   "source": [
    "# convert class vectors to binary class matrices\n",
    "y_train = keras.utils.to_categorical(y_train, num_classes)\n",
    "y_test = keras.utils.to_categorical(y_test, num_classes)"
   ]
  },
  {
   "cell_type": "code",
   "execution_count": 60,
   "metadata": {},
   "outputs": [],
   "source": [
    "## Build Our Model \n",
    "\n",
    "model = Sequential()\n",
    "model.add(Conv2D(32, kernel_size=(3, 3),\n",
    "                 activation='relu',\n",
    "                 input_shape=input_shape))\n",
    "model.add(Conv2D(64, (3, 3), activation='relu'))\n",
    "model.add(MaxPooling2D(pool_size=(2, 2)))\n",
    "model.add(Dropout(0.25))\n",
    "model.add(Flatten())\n",
    "model.add(Dense(128, activation='relu'))\n",
    "model.add(Dropout(0.5))\n",
    "model.add(Dense(num_classes, activation='softmax'))\n",
    "\n",
    "model.compile(loss=tf.keras.losses.categorical_crossentropy,\n",
    "              optimizer=tf.keras.optimizers.Adadelta(),\n",
    "              metrics=['accuracy'])"
   ]
  },
  {
   "cell_type": "markdown",
   "metadata": {},
   "source": [
    "We fit the model just as before."
   ]
  },
  {
   "cell_type": "code",
   "execution_count": 61,
   "metadata": {},
   "outputs": [
    {
     "name": "stdout",
     "output_type": "stream",
     "text": [
      "Epoch 1/20\n",
      "WARNING:tensorflow:AutoGraph could not transform <function Model.make_train_function.<locals>.train_function at 0x14de52710> and will run it as-is.\n",
      "Please report this to the TensorFlow team. When filing the bug, set the verbosity to 10 (on Linux, `export AUTOGRAPH_VERBOSITY=10`) and attach the full output.\n",
      "Cause: 'arguments' object has no attribute 'posonlyargs'\n",
      "To silence this warning, decorate the function with @tf.autograph.experimental.do_not_convert\n",
      "WARNING: AutoGraph could not transform <function Model.make_train_function.<locals>.train_function at 0x14de52710> and will run it as-is.\n",
      "Please report this to the TensorFlow team. When filing the bug, set the verbosity to 10 (on Linux, `export AUTOGRAPH_VERBOSITY=10`) and attach the full output.\n",
      "Cause: 'arguments' object has no attribute 'posonlyargs'\n",
      "To silence this warning, decorate the function with @tf.autograph.experimental.do_not_convert\n",
      "375/375 [==============================] - ETA: 0s - loss: 2.2987 - accuracy: 0.1107WARNING:tensorflow:AutoGraph could not transform <function Model.make_test_function.<locals>.test_function at 0x1232f43b0> and will run it as-is.\n",
      "Please report this to the TensorFlow team. When filing the bug, set the verbosity to 10 (on Linux, `export AUTOGRAPH_VERBOSITY=10`) and attach the full output.\n",
      "Cause: 'arguments' object has no attribute 'posonlyargs'\n",
      "To silence this warning, decorate the function with @tf.autograph.experimental.do_not_convert\n",
      "WARNING: AutoGraph could not transform <function Model.make_test_function.<locals>.test_function at 0x1232f43b0> and will run it as-is.\n",
      "Please report this to the TensorFlow team. When filing the bug, set the verbosity to 10 (on Linux, `export AUTOGRAPH_VERBOSITY=10`) and attach the full output.\n",
      "Cause: 'arguments' object has no attribute 'posonlyargs'\n",
      "To silence this warning, decorate the function with @tf.autograph.experimental.do_not_convert\n",
      "375/375 [==============================] - 75s 199ms/step - loss: 2.2987 - accuracy: 0.1108 - val_loss: 2.2652 - val_accuracy: 0.2699\n",
      "Epoch 2/20\n",
      "375/375 [==============================] - 69s 184ms/step - loss: 2.2625 - accuracy: 0.1911 - val_loss: 2.2223 - val_accuracy: 0.4049\n",
      "Epoch 3/20\n",
      "375/375 [==============================] - 73s 195ms/step - loss: 2.2236 - accuracy: 0.2637 - val_loss: 2.1697 - val_accuracy: 0.5259\n",
      "Epoch 4/20\n",
      "375/375 [==============================] - 68s 181ms/step - loss: 2.1729 - accuracy: 0.3402 - val_loss: 2.1025 - val_accuracy: 0.6064\n",
      "Epoch 5/20\n",
      "375/375 [==============================] - 69s 184ms/step - loss: 2.1076 - accuracy: 0.4070 - val_loss: 2.0157 - val_accuracy: 0.6625\n",
      "Epoch 6/20\n",
      "375/375 [==============================] - 76s 203ms/step - loss: 2.0270 - accuracy: 0.4607 - val_loss: 1.9054 - val_accuracy: 0.7135\n",
      "Epoch 7/20\n",
      "375/375 [==============================] - 74s 198ms/step - loss: 1.9211 - accuracy: 0.5162 - val_loss: 1.7718 - val_accuracy: 0.7500\n",
      "Epoch 8/20\n",
      "375/375 [==============================] - 71s 190ms/step - loss: 1.8006 - accuracy: 0.5507 - val_loss: 1.6175 - val_accuracy: 0.7762\n",
      "Epoch 9/20\n",
      "375/375 [==============================] - 87s 231ms/step - loss: 1.6662 - accuracy: 0.5859 - val_loss: 1.4510 - val_accuracy: 0.7930\n",
      "Epoch 10/20\n",
      "375/375 [==============================] - 79s 212ms/step - loss: 1.5248 - accuracy: 0.6171 - val_loss: 1.2874 - val_accuracy: 0.8064\n",
      "Epoch 11/20\n",
      "375/375 [==============================] - 71s 190ms/step - loss: 1.3971 - accuracy: 0.6404 - val_loss: 1.1375 - val_accuracy: 0.8152\n",
      "Epoch 12/20\n",
      "375/375 [==============================] - 69s 184ms/step - loss: 1.2782 - accuracy: 0.6546 - val_loss: 1.0086 - val_accuracy: 0.8251\n",
      "Epoch 13/20\n",
      "375/375 [==============================] - 68s 180ms/step - loss: 1.1806 - accuracy: 0.6699 - val_loss: 0.9023 - val_accuracy: 0.8332\n",
      "Epoch 14/20\n",
      "375/375 [==============================] - 70s 188ms/step - loss: 1.1011 - accuracy: 0.6888 - val_loss: 0.8165 - val_accuracy: 0.8393\n",
      "Epoch 15/20\n",
      "375/375 [==============================] - 69s 184ms/step - loss: 1.0210 - accuracy: 0.7055 - val_loss: 0.7469 - val_accuracy: 0.8450\n",
      "Epoch 16/20\n",
      "375/375 [==============================] - 66s 175ms/step - loss: 0.9649 - accuracy: 0.7175 - val_loss: 0.6914 - val_accuracy: 0.8498\n",
      "Epoch 17/20\n",
      "375/375 [==============================] - 69s 185ms/step - loss: 0.9111 - accuracy: 0.7300 - val_loss: 0.6458 - val_accuracy: 0.8537\n",
      "Epoch 18/20\n",
      "375/375 [==============================] - 71s 188ms/step - loss: 0.8812 - accuracy: 0.7369 - val_loss: 0.6074 - val_accuracy: 0.8608\n",
      "Epoch 19/20\n",
      "375/375 [==============================] - 71s 189ms/step - loss: 0.8353 - accuracy: 0.7498 - val_loss: 0.5755 - val_accuracy: 0.8643\n",
      "Epoch 20/20\n",
      "375/375 [==============================] - 69s 183ms/step - loss: 0.8140 - accuracy: 0.7558 - val_loss: 0.5483 - val_accuracy: 0.8673\n"
     ]
    }
   ],
   "source": [
    "#CAUTION:  DEEP CNN, MIGHT TAKE FEW MINUTES (HOUR) TO CONVERGE\n",
    "hist = model.fit(x_train, y_train,\n",
    "          batch_size=128,\n",
    "          epochs=15,\n",
    "          verbose=1, validation_split=0.2,\n",
    "                 callbacks=[callbacks.EarlyStopping(\n",
    "                     monitor=\"val_loss\", patience=10, restore_best_weights=True)])"
   ]
  },
  {
   "cell_type": "code",
   "execution_count": null,
   "metadata": {},
   "outputs": [],
   "source": []
  },
  {
   "cell_type": "code",
   "execution_count": 66,
   "metadata": {},
   "outputs": [
    {
     "name": "stdout",
     "output_type": "stream",
     "text": [
      "Train loss: 0.5809608697891235\n",
      "Train accuracy: 0.8561499714851379\n"
     ]
    }
   ],
   "source": [
    "# Check  Training Accuracy \n",
    "Train_score = model.evaluate(x_train, y_train, verbose=0)\n",
    "print('Train loss:', Train_score[0])\n",
    "print('Train accuracy:', Train_score[1])\n"
   ]
  },
  {
   "cell_type": "code",
   "execution_count": 67,
   "metadata": {},
   "outputs": [
    {
     "name": "stdout",
     "output_type": "stream",
     "text": [
      "Test loss: 0.559162974357605\n",
      "Test accuracy: 0.8671000003814697\n"
     ]
    }
   ],
   "source": [
    "# Check Testing Accuracy \n",
    "score = model.evaluate(x_test, y_test, verbose=0)\n",
    "print('Test loss:', score[0])\n",
    "print('Test accuracy:', score[1])\n"
   ]
  },
  {
   "cell_type": "markdown",
   "metadata": {},
   "source": [
    "#### You can see the significance improvement in the accuracy from the MLP "
   ]
  },
  {
   "cell_type": "code",
   "execution_count": 69,
   "metadata": {},
   "outputs": [
    {
     "data": {
      "image/png": "[encoded data removed]",
      "text/plain": [
       "<Figure size 360x576 with 1 Axes>"
      ]
     },
     "metadata": {
      "needs_background": "light"
     },
     "output_type": "display_data"
    }
   ],
   "source": [
    "\n",
    "# plotting the metrics\n",
    "fig = plt.figure(figsize =(5,8))\n",
    "plt.subplot(2,1,1)\n",
    "plt.plot(history.history['accuracy'])\n",
    "plt.plot(history.history['val_accuracy'])\n",
    "plt.title('Model Accuracy')\n",
    "plt.ylabel('accuracy')\n",
    "plt.xlabel('epoch')\n",
    "plt.legend(['train', 'validation'], loc='lower right')\n",
    "plt.show()"
   ]
  },
  {
   "cell_type": "code",
   "execution_count": null,
   "metadata": {},
   "outputs": [],
   "source": []
  },
  {
   "cell_type": "markdown",
   "metadata": {},
   "source": [
    "In this section we fit a CNN to the `CIFAR` data, which is available in the `keras`\n",
    "package. It is arranged in a similar fashion as the `MNIST` data.\n",
    "\n",
    "First - Get `CIFAR` Data "
   ]
  },
  {
   "cell_type": "markdown",
   "metadata": {},
   "source": [
    "The example below loads the CIFAR-100 dataset using the Keras API and creates a plot of the first nine images in the training dataset. The data is huge, might take some time to download."
   ]
  },
  {
   "cell_type": "code",
   "execution_count": 70,
   "metadata": {},
   "outputs": [],
   "source": [
    "from tensorflow.keras.datasets import cifar100"
   ]
  },
  {
   "cell_type": "code",
   "execution_count": 72,
   "metadata": {},
   "outputs": [],
   "source": [
    "(x_train, y_train), (x_test, y_test) = cifar100.load_data()"
   ]
  },
  {
   "cell_type": "markdown",
   "metadata": {},
   "source": [
    "The array of 50,000 training images has four dimensions:\n",
    "  each three-color image is represented as a set of three channels, each of which consists of\n",
    "$32\\times 32$ eight-bit pixels. We standardize as we did for the\n",
    "digits, but keep the array structure. We one-hot encode the response\n",
    "factors  to produce a 100-column binary matrix."
   ]
  },
  {
   "cell_type": "code",
   "execution_count": 74,
   "metadata": {},
   "outputs": [
    {
     "name": "stdout",
     "output_type": "stream",
     "text": [
      "Train: X=(50000, 32, 32, 3), y=(50000, 1)\n",
      "Test: X=(10000, 32, 32, 3), y=(10000, 32, 32, 3)\n"
     ]
    },
    {
     "data": {
      "image/png": "[encoded data removed]",
      "text/plain": [
       "<Figure size 432x288 with 9 Axes>"
      ]
     },
     "metadata": {
      "needs_background": "light"
     },
     "output_type": "display_data"
    }
   ],
   "source": [
    "# summarize loaded dataset and print fist 9 pictures of the data\n",
    "print('Train: X=%s, y=%s' % (x_train.shape, y_train.shape))\n",
    "print('Test: X=%s, y=%s' % (x_test.shape, x_test.shape))\n",
    "# plot first few images\n",
    "for i in range(9):\n",
    "    # define subplot\n",
    "    pyplot.subplot(330 + 1 + i)\n",
    "    # plot raw pixel data\n",
    "    pyplot.imshow(x_train[i])\n",
    "# show the figure\n",
    "pyplot.show()"
   ]
  },
  {
   "cell_type": "code",
   "execution_count": null,
   "metadata": {},
   "outputs": [],
   "source": []
  },
  {
   "cell_type": "code",
   "execution_count": 75,
   "metadata": {},
   "outputs": [],
   "source": [
    "\n",
    "# Parse numbers as floats\n",
    "x_train = x_train.astype('float32')\n",
    "x_test = x_test.astype('float32')\n",
    "\n",
    "# Normalize data\n",
    "x_train = x_train / 255\n",
    "x_test = x_test / 255\n",
    "\n",
    "\n"
   ]
  },
  {
   "cell_type": "code",
   "execution_count": 76,
   "metadata": {},
   "outputs": [],
   "source": [
    "# convert terget to one hot encoding\n",
    "y_train = keras.utils.to_categorical(y_train, 100)\n",
    "y_test = keras.utils.to_categorical(y_test, 100)\n"
   ]
  },
  {
   "cell_type": "code",
   "execution_count": 77,
   "metadata": {},
   "outputs": [],
   "source": [
    "#If you are running multiple keras model, it is better to restart the session with clear session\n",
    "#This will allow you the machine to remove previous learned weigt (for some other model) and free up the space for new learning. \n",
    "tf.keras.backend.clear_session()\n"
   ]
  },
  {
   "cell_type": "code",
   "execution_count": null,
   "metadata": {},
   "outputs": [],
   "source": []
  },
  {
   "cell_type": "code",
   "execution_count": 78,
   "metadata": {},
   "outputs": [
    {
     "name": "stdout",
     "output_type": "stream",
     "text": [
      "Model: \"sequential\"\n",
      "_________________________________________________________________\n",
      "Layer (type)                 Output Shape              Param #   \n",
      "=================================================================\n",
      "conv2d (Conv2D)              (None, 32, 32, 32)        896       \n",
      "_________________________________________________________________\n",
      "max_pooling2d (MaxPooling2D) (None, 16, 16, 32)        0         \n",
      "_________________________________________________________________\n",
      "conv2d_1 (Conv2D)            (None, 16, 16, 64)        18496     \n",
      "_________________________________________________________________\n",
      "max_pooling2d_1 (MaxPooling2 (None, 8, 8, 64)          0         \n",
      "_________________________________________________________________\n",
      "conv2d_2 (Conv2D)            (None, 8, 8, 128)         73856     \n",
      "_________________________________________________________________\n",
      "max_pooling2d_2 (MaxPooling2 (None, 4, 4, 128)         0         \n",
      "_________________________________________________________________\n",
      "conv2d_3 (Conv2D)            (None, 4, 4, 256)         295168    \n",
      "_________________________________________________________________\n",
      "max_pooling2d_3 (MaxPooling2 (None, 2, 2, 256)         0         \n",
      "_________________________________________________________________\n",
      "flatten (Flatten)            (None, 1024)              0         \n",
      "_________________________________________________________________\n",
      "dropout (Dropout)            (None, 1024)              0         \n",
      "_________________________________________________________________\n",
      "dense (Dense)                (None, 512)               524800    \n",
      "_________________________________________________________________\n",
      "dense_1 (Dense)              (None, 100)               51300     \n",
      "=================================================================\n",
      "Total params: 964,516\n",
      "Trainable params: 964,516\n",
      "Non-trainable params: 0\n",
      "_________________________________________________________________\n"
     ]
    }
   ],
   "source": [
    "# Create the model\n",
    "model = Sequential()\n",
    "model.add(Conv2D(32, kernel_size=(3, 3), padding = \"same\", activation='relu', input_shape=(32, 32, 3)))\n",
    "model.add(MaxPooling2D(pool_size=(2, 2)))\n",
    "model.add(Conv2D(64, kernel_size=(3, 3), padding = \"same\", activation='relu'))\n",
    "model.add(MaxPooling2D(pool_size=(2, 2)))\n",
    "model.add(Conv2D(128, kernel_size=(3, 3), padding = \"same\", activation='relu'))\n",
    "model.add(MaxPooling2D(pool_size=(2, 2)))\n",
    "model.add(Conv2D(256, kernel_size=(3, 3), padding = \"same\", activation='relu'))\n",
    "model.add(MaxPooling2D(pool_size=(2, 2)))\n",
    "model.add(Flatten())\n",
    "model.add(Dropout(rate = 0.5))\n",
    "model.add(Dense(512, activation='relu'))\n",
    "model.add(Dense(100, activation='softmax'))\n",
    "\n",
    "model.summary()"
   ]
  },
  {
   "cell_type": "code",
   "execution_count": 79,
   "metadata": {},
   "outputs": [],
   "source": [
    "\n",
    "# Compile the model\n",
    "model.compile(loss= categorical_crossentropy, \n",
    "              optimizer= 'adam',\n",
    "              metrics=['accuracy'])\n",
    "\n"
   ]
  },
  {
   "cell_type": "code",
   "execution_count": 80,
   "metadata": {},
   "outputs": [
    {
     "name": "stdout",
     "output_type": "stream",
     "text": [
      "Epoch 1/10\n",
      "WARNING:tensorflow:AutoGraph could not transform <function Model.make_train_function.<locals>.train_function at 0x122fe9950> and will run it as-is.\n",
      "Please report this to the TensorFlow team. When filing the bug, set the verbosity to 10 (on Linux, `export AUTOGRAPH_VERBOSITY=10`) and attach the full output.\n",
      "Cause: 'arguments' object has no attribute 'posonlyargs'\n",
      "To silence this warning, decorate the function with @tf.autograph.experimental.do_not_convert\n",
      "WARNING: AutoGraph could not transform <function Model.make_train_function.<locals>.train_function at 0x122fe9950> and will run it as-is.\n",
      "Please report this to the TensorFlow team. When filing the bug, set the verbosity to 10 (on Linux, `export AUTOGRAPH_VERBOSITY=10`) and attach the full output.\n",
      "Cause: 'arguments' object has no attribute 'posonlyargs'\n",
      "To silence this warning, decorate the function with @tf.autograph.experimental.do_not_convert\n",
      "313/313 [==============================] - ETA: 0s - loss: 4.3992 - accuracy: 0.0316WARNING:tensorflow:AutoGraph could not transform <function Model.make_test_function.<locals>.test_function at 0x1247bb320> and will run it as-is.\n",
      "Please report this to the TensorFlow team. When filing the bug, set the verbosity to 10 (on Linux, `export AUTOGRAPH_VERBOSITY=10`) and attach the full output.\n",
      "Cause: 'arguments' object has no attribute 'posonlyargs'\n",
      "To silence this warning, decorate the function with @tf.autograph.experimental.do_not_convert\n",
      "WARNING: AutoGraph could not transform <function Model.make_test_function.<locals>.test_function at 0x1247bb320> and will run it as-is.\n",
      "Please report this to the TensorFlow team. When filing the bug, set the verbosity to 10 (on Linux, `export AUTOGRAPH_VERBOSITY=10`) and attach the full output.\n",
      "Cause: 'arguments' object has no attribute 'posonlyargs'\n",
      "To silence this warning, decorate the function with @tf.autograph.experimental.do_not_convert\n",
      "313/313 [==============================] - 86s 272ms/step - loss: 4.3985 - accuracy: 0.0317 - val_loss: 3.7622 - val_accuracy: 0.1178\n",
      "Epoch 2/10\n",
      "313/313 [==============================] - 80s 255ms/step - loss: 3.6122 - accuracy: 0.1418 - val_loss: 3.2356 - val_accuracy: 0.2162\n",
      "Epoch 3/10\n",
      "313/313 [==============================] - 77s 247ms/step - loss: 3.1603 - accuracy: 0.2232 - val_loss: 2.9674 - val_accuracy: 0.2629\n",
      "Epoch 4/10\n",
      "313/313 [==============================] - 72s 230ms/step - loss: 2.8536 - accuracy: 0.2804 - val_loss: 2.7339 - val_accuracy: 0.3155\n",
      "Epoch 5/10\n",
      "313/313 [==============================] - 64s 205ms/step - loss: 2.6298 - accuracy: 0.3247 - val_loss: 2.5630 - val_accuracy: 0.3457\n",
      "Epoch 6/10\n",
      "313/313 [==============================] - 64s 204ms/step - loss: 2.4458 - accuracy: 0.3635 - val_loss: 2.4786 - val_accuracy: 0.3656\n",
      "Epoch 7/10\n",
      "313/313 [==============================] - 62s 199ms/step - loss: 2.2834 - accuracy: 0.3980 - val_loss: 2.4483 - val_accuracy: 0.3689\n",
      "Epoch 8/10\n",
      "313/313 [==============================] - 65s 208ms/step - loss: 2.1577 - accuracy: 0.4255 - val_loss: 2.3573 - val_accuracy: 0.3925\n",
      "Epoch 9/10\n",
      "313/313 [==============================] - 63s 201ms/step - loss: 2.0188 - accuracy: 0.4496 - val_loss: 2.3334 - val_accuracy: 0.4036\n",
      "Epoch 10/10\n",
      "313/313 [==============================] - 63s 200ms/step - loss: 1.9365 - accuracy: 0.4709 - val_loss: 2.2957 - val_accuracy: 0.4089\n"
     ]
    }
   ],
   "source": [
    "# Fit data to model\n",
    "# CAUTION it might take some time, I only use 10 epoc to make runtimes manageable;\n",
    "# For a optimal performance you might need to set epoc 50-100, which might increase the runtime significantly)\n",
    "history = model.fit(x_train, y_train,\n",
    "            batch_size=128,\n",
    "            epochs=10,\n",
    "            verbose=1, validation_split=0.2)\n",
    "\n"
   ]
  },
  {
   "cell_type": "code",
   "execution_count": null,
   "metadata": {},
   "outputs": [],
   "source": []
  },
  {
   "cell_type": "code",
   "execution_count": 83,
   "metadata": {},
   "outputs": [
    {
     "data": {
      "image/png": "[encoded data removed]",
      "text/plain": [
       "<Figure size 288x576 with 2 Axes>"
      ]
     },
     "metadata": {
      "needs_background": "light"
     },
     "output_type": "display_data"
    }
   ],
   "source": [
    "# plotting the error and accuracy metrics\n",
    "fig = plt.figure(figsize =(4,8))\n",
    "plt.subplot(2,1,1)\n",
    "plt.plot(history.history['accuracy'])\n",
    "plt.plot(history.history['val_accuracy'])\n",
    "plt.title('Model Accuracy')\n",
    "plt.ylabel('accuracy')\n",
    "plt.xlabel('epoch')\n",
    "plt.legend(['train', 'validation'], loc='lower right')\n",
    "\n",
    "\n",
    "plt.subplot(2,1,2)\n",
    "plt.plot(history.history['loss'])\n",
    "plt.plot(history.history['val_loss'])\n",
    "plt.title('Model Loss')\n",
    "plt.ylabel('loss')\n",
    "plt.xlabel('epoch')\n",
    "plt.legend(['train', 'validation'], loc='upper right')\n",
    "plt.tight_layout()\n",
    "plt.show()"
   ]
  },
  {
   "cell_type": "code",
   "execution_count": 81,
   "metadata": {},
   "outputs": [
    {
     "name": "stdout",
     "output_type": "stream",
     "text": [
      "Test loss: 2.2434866428375244 / Test accuracy: 0.4187999963760376\n"
     ]
    }
   ],
   "source": [
    "# Generate generalization metrics \n",
    "# lets see the prediction accuracy on test sample \n",
    "score = model.evaluate(x_test, y_test, verbose=0)\n",
    "print(f'Test loss: {score[0]} / Test accuracy: {score[1]}')"
   ]
  },
  {
   "cell_type": "markdown",
   "metadata": {},
   "source": [
    "This model takes 20 minutes to run and achieves 46% accuracy on the test\n",
    "data. Although this is not terrible for 100-class data (a random\n",
    "classifier gets 1% accuracy), searching the web we see results around\n",
    "75%. Typically it takes a lot of architecture carpentry,\n",
    "fiddling with regularization, and time to achieve such results.\n"
   ]
  },
  {
   "cell_type": "code",
   "execution_count": null,
   "metadata": {},
   "outputs": [],
   "source": []
  },
  {
   "cell_type": "markdown",
   "metadata": {},
   "source": [
    "## Using Pretrained CNN Models\n",
    "\n",
    "We now show how to use a CNN pretrained on the  `imagenet` database to classify natural\n",
    "images, and demonstrate how we produced Figure ???.\n",
    "We copied six jpeg images from a digital photo album into the\n",
    "directory `book_images`. (These images are available\n",
    "  from the data section of  [www.statlearning.com](www.statlearning.com), the ISL book website. Download `book_images.zip`; when\n",
    "clicked it creates the `book_images` directory.) We first read in the images, and\n",
    "convert them into the array format expected by the `keras`\n",
    "software to match the specifications in `imagenet`. Make sure that your working directory in `R` is set to the folder in which the images are stored."
   ]
  },
  {
   "cell_type": "code",
   "execution_count": 86,
   "metadata": {},
   "outputs": [],
   "source": [
    "#Get the iamagenet data and realted libraries\n",
    "##We then load the trained network. The model has 50 layers, with a fair bit of complexity.\n",
    "import os\n",
    "from tensorflow.keras.applications.resnet50 import ResNet50\n",
    "from tensorflow.keras.preprocessing import image\n",
    "from tensorflow.keras.applications.resnet50 import preprocess_input, decode_predictions\n"
   ]
  },
  {
   "cell_type": "code",
   "execution_count": null,
   "metadata": {},
   "outputs": [],
   "source": []
  },
  {
   "cell_type": "code",
   "execution_count": 87,
   "metadata": {},
   "outputs": [],
   "source": [
    "# here we import the book images and transform the matrix into arrays, and then stor the images in X_img arrray. \n",
    "\n",
    "img_dir = 'data/book_images/'\n",
    "image_names  = os.listdir(img_dir)\n",
    "\n",
    "num_images = len(image_names)\n",
    "\n",
    "X_img =  np.empty((num_images, 224, 224, 3))\n",
    "\n",
    "for i in range(0, num_images):\n",
    "    img_path = img_dir+image_names[i]\n",
    "    img = image.load_img(img_path, target_size=(224, 224))\n",
    "    x = image.img_to_array(img)\n",
    "    x = np.expand_dims(x, axis=0)\n",
    "    x = preprocess_input(x)\n",
    "    X_img[i] = x\n"
   ]
  },
  {
   "cell_type": "code",
   "execution_count": 88,
   "metadata": {},
   "outputs": [],
   "source": [
    "##load the weight of imagenet data\n",
    "model = ResNet50(weights='imagenet')\n"
   ]
  },
  {
   "cell_type": "markdown",
   "metadata": {},
   "source": [
    "Finally, we classify our six images, and return the top three class\n",
    "choices in terms of predicted probability for each."
   ]
  },
  {
   "cell_type": "code",
   "execution_count": 91,
   "metadata": {},
   "outputs": [],
   "source": [
    "preds = model.predict(X_img)"
   ]
  },
  {
   "cell_type": "code",
   "execution_count": 92,
   "metadata": {},
   "outputs": [
    {
     "name": "stdout",
     "output_type": "stream",
     "text": [
      "weaver.jpg Predicted: [('n01843065', 'jacamar', 0.4865981), ('n01818515', 'macaw', 0.23028974), ('n02494079', 'squirrel_monkey', 0.04457096), ('n01560419', 'bulbul', 0.037763227)]\n",
      "flamingo.jpg Predicted: [('n02007558', 'flamingo', 0.93010926), ('n02006656', 'spoonbill', 0.06801473), ('n02002556', 'white_stork', 0.0011723739), ('n02002724', 'black_stork', 0.00034962536)]\n",
      "huey.jpg Predicted: [('n02097474', 'Tibetan_terrier', 0.5246223), ('n02098413', 'Lhasa', 0.4059004), ('n02094114', 'Norfolk_terrier', 0.016995283), ('n02098105', 'soft-coated_wheaten_terrier', 0.016733933)]\n",
      "hawk_cropped.jpeg Predicted: [('n01608432', 'kite', 0.724343), ('n01622779', 'great_grey_owl', 0.0868352), ('n01532829', 'house_finch', 0.039976373), ('n01537544', 'indigo_bunting', 0.019756041)]\n",
      "hawk.jpg Predicted: [('n03388043', 'fountain', 0.27721673), ('n03532672', 'hook', 0.17947067), ('n03804744', 'nail', 0.1103582), ('n01945685', 'slug', 0.046399903)]\n",
      "kitty.jpg Predicted: [('n02105641', 'Old_English_sheepdog', 0.83900285), ('n02086240', 'Shih-Tzu', 0.042358063), ('n03223299', 'doormat', 0.032265645), ('n02123394', 'Persian_cat', 0.02275406)]\n"
     ]
    }
   ],
   "source": [
    "# decode the results into a list of tuples (class, description, probability)\n",
    "# and print the top 4 prediction along with the original image name: \n",
    "# (one such list for each sample in the batch)\n",
    "for i in range(0, num_images):\n",
    "    print(image_names[i], 'Predicted:', decode_predictions(preds, top=4)[i] )\n",
    "#print('Predicted:', decode_predictions(preds, top=3))"
   ]
  },
  {
   "cell_type": "code",
   "execution_count": null,
   "metadata": {},
   "outputs": [],
   "source": []
  },
  {
   "cell_type": "markdown",
   "metadata": {},
   "source": [
    "## IMDb Document Classification\n",
    "\n",
    "Now we perform document classification (Section ???) on the `IMDB` dataset, which is available as part of the `keras`\n",
    "package. We  limit the dictionary size to the\n",
    "10,000  most frequently-used words and tokens."
   ]
  },
  {
   "cell_type": "code",
   "execution_count": 93,
   "metadata": {},
   "outputs": [],
   "source": [
    "from keras.datasets import imdb\n",
    "(x_train, y_train), (x_test, y_test) = imdb.load_data(num_words=10000)\n",
    "#data = np.concatenate((training_data, testing_data), axis=0)\n",
    "#targets = np.concatenate((training_targets, testing_targets), axis=0)"
   ]
  },
  {
   "cell_type": "markdown",
   "metadata": {},
   "source": [
    "Each element of `x_train` is a vector of numbers between 0 and\n",
    "9999 (the document), referring to the words found in the dictionary.\n",
    "For example, the first training document is the positive review on. Lets see the output and the review of first \n",
    "training data"
   ]
  },
  {
   "cell_type": "code",
   "execution_count": 94,
   "metadata": {},
   "outputs": [
    {
     "name": "stdout",
     "output_type": "stream",
     "text": [
      "the review is: 1\n"
     ]
    }
   ],
   "source": [
    "print('the review is:', y_train[0])"
   ]
  },
  {
   "cell_type": "code",
   "execution_count": 95,
   "metadata": {},
   "outputs": [
    {
     "name": "stdout",
     "output_type": "stream",
     "text": [
      "# this film was just brilliant casting location scenery story direction everyone's really suited the part they played and you could just imagine being there robert # is an amazing actor and now the same being director # father came from the same scottish island as myself so i loved the fact there was a real connection with this film the witty remarks throughout the film were great it was just brilliant so much that i bought the film as soon as it was released for # and would recommend it to everyone to watch and the fly fishing was amazing really cried at the end it was so sad and you know what they say if you cry at a film it must have been good and this definitely was also # to the two little boy's that played the # of norman and paul they were just brilliant children are often left out of the # list i think because the stars that play them all grown up are such a big profile for the whole film but these children are amazing and should be praised for what they have done don't you think the whole story was so lovely because it was true and was someone's life after all that was shared with us all\n"
     ]
    }
   ],
   "source": [
    "index = imdb.get_word_index()\n",
    "reverse_index = dict([(value, key) for (key, value) in index.items()]) \n",
    "decoded = \" \".join( [reverse_index.get(i - 3, \"#\") for i in x_train[0]] )\n",
    "print(decoded) "
   ]
  },
  {
   "cell_type": "markdown",
   "metadata": {},
   "source": [
    "Above you can see the first review of the dataset, which is labeled as positive (1). The code below retrieves the dictionary mapping word indices back into the original words so that we can read them. It replaces every unknown word with a “#”. It does this by using the get_word_index() function."
   ]
  },
  {
   "cell_type": "markdown",
   "metadata": {},
   "source": [
    "Now it's time to prepare our data. We will vectorize every review and fill it with zeros so it contains exactly 10,000 numbers. That means we fill every review that is shorter than 10,000 with zeros. We need to do this because the biggest review is nearly that long and every input for our neural network needs to have the same size. We will also transform the targets into floats.\n",
    "\n"
   ]
  },
  {
   "cell_type": "code",
   "execution_count": 96,
   "metadata": {},
   "outputs": [],
   "source": [
    "def vectorize(sequences, dimension = 10000):\n",
    "    results = np.zeros((len(sequences), dimension))\n",
    "    for i, sequence in enumerate(sequences):\n",
    "        results[i, sequence] = 1\n",
    "    return results\n",
    " \n",
    "\n",
    "x_train_v = vectorize(x_train)\n",
    "x_test_v = vectorize(x_test)\n",
    "\n",
    "y_train  = np.array(y_train).astype(\"float32\")\n",
    "y_test  = np.array(y_test).astype(\"float32\")"
   ]
  },
  {
   "cell_type": "code",
   "execution_count": null,
   "metadata": {},
   "outputs": [],
   "source": []
  },
  {
   "cell_type": "markdown",
   "metadata": {},
   "source": [
    "Now we're ready to build our simple neural network. We'll start by defining the type of model we want to build. "
   ]
  },
  {
   "cell_type": "code",
   "execution_count": 97,
   "metadata": {},
   "outputs": [],
   "source": [
    "tf.keras.backend.clear_session()"
   ]
  },
  {
   "cell_type": "code",
   "execution_count": 98,
   "metadata": {},
   "outputs": [
    {
     "name": "stdout",
     "output_type": "stream",
     "text": [
      "Model: \"sequential\"\n",
      "_________________________________________________________________\n",
      "Layer (type)                 Output Shape              Param #   \n",
      "=================================================================\n",
      "dense (Dense)                (None, 32)                320032    \n",
      "_________________________________________________________________\n",
      "dropout (Dropout)            (None, 32)                0         \n",
      "_________________________________________________________________\n",
      "dense_1 (Dense)              (None, 16)                528       \n",
      "_________________________________________________________________\n",
      "dense_2 (Dense)              (None, 1)                 17        \n",
      "=================================================================\n",
      "Total params: 320,577\n",
      "Trainable params: 320,577\n",
      "Non-trainable params: 0\n",
      "_________________________________________________________________\n"
     ]
    }
   ],
   "source": [
    "model = Sequential()\n",
    "# Input - Layer\n",
    "model.add(Dense(32, activation = \"relu\", input_shape=(10000, )))\n",
    "# Hidden - Layers\n",
    "model.add(Dropout(0.2, noise_shape=None, seed=None))\n",
    "model.add(Dense(16, activation = \"relu\"))\n",
    "# Output- Layer\n",
    "model.add(Dense(1, activation = \"sigmoid\"))\n",
    "model.summary()"
   ]
  },
  {
   "cell_type": "code",
   "execution_count": 99,
   "metadata": {},
   "outputs": [],
   "source": [
    "model.compile(optimizer = \"adam\", loss = \"binary_crossentropy\", metrics = [\"accuracy\"])"
   ]
  },
  {
   "cell_type": "code",
   "execution_count": 100,
   "metadata": {},
   "outputs": [
    {
     "name": "stdout",
     "output_type": "stream",
     "text": [
      "Epoch 1/10\n",
      "WARNING:tensorflow:AutoGraph could not transform <function Model.make_train_function.<locals>.train_function at 0x122f488c0> and will run it as-is.\n",
      "Please report this to the TensorFlow team. When filing the bug, set the verbosity to 10 (on Linux, `export AUTOGRAPH_VERBOSITY=10`) and attach the full output.\n",
      "Cause: 'arguments' object has no attribute 'posonlyargs'\n",
      "To silence this warning, decorate the function with @tf.autograph.experimental.do_not_convert\n",
      "WARNING: AutoGraph could not transform <function Model.make_train_function.<locals>.train_function at 0x122f488c0> and will run it as-is.\n",
      "Please report this to the TensorFlow team. When filing the bug, set the verbosity to 10 (on Linux, `export AUTOGRAPH_VERBOSITY=10`) and attach the full output.\n",
      "Cause: 'arguments' object has no attribute 'posonlyargs'\n",
      "To silence this warning, decorate the function with @tf.autograph.experimental.do_not_convert\n",
      "150/157 [===========================>..] - ETA: 0s - loss: 0.5329 - accuracy: 0.7331WARNING:tensorflow:AutoGraph could not transform <function Model.make_test_function.<locals>.test_function at 0x122f5b3b0> and will run it as-is.\n",
      "Please report this to the TensorFlow team. When filing the bug, set the verbosity to 10 (on Linux, `export AUTOGRAPH_VERBOSITY=10`) and attach the full output.\n",
      "Cause: 'arguments' object has no attribute 'posonlyargs'\n",
      "To silence this warning, decorate the function with @tf.autograph.experimental.do_not_convert\n",
      "WARNING: AutoGraph could not transform <function Model.make_test_function.<locals>.test_function at 0x122f5b3b0> and will run it as-is.\n",
      "Please report this to the TensorFlow team. When filing the bug, set the verbosity to 10 (on Linux, `export AUTOGRAPH_VERBOSITY=10`) and attach the full output.\n",
      "Cause: 'arguments' object has no attribute 'posonlyargs'\n",
      "To silence this warning, decorate the function with @tf.autograph.experimental.do_not_convert\n",
      "157/157 [==============================] - 3s 17ms/step - loss: 0.5265 - accuracy: 0.7377 - val_loss: 0.2763 - val_accuracy: 0.8908\n",
      "Epoch 2/10\n",
      "157/157 [==============================] - 1s 6ms/step - loss: 0.2015 - accuracy: 0.9254 - val_loss: 0.2713 - val_accuracy: 0.8916\n",
      "Epoch 3/10\n",
      "157/157 [==============================] - 1s 5ms/step - loss: 0.1214 - accuracy: 0.9595 - val_loss: 0.3046 - val_accuracy: 0.8854\n",
      "Epoch 4/10\n",
      "157/157 [==============================] - 1s 5ms/step - loss: 0.0800 - accuracy: 0.9734 - val_loss: 0.3740 - val_accuracy: 0.8828\n",
      "Epoch 5/10\n",
      "157/157 [==============================] - 1s 5ms/step - loss: 0.0440 - accuracy: 0.9882 - val_loss: 0.4524 - val_accuracy: 0.8820\n",
      "Epoch 6/10\n",
      "157/157 [==============================] - 1s 6ms/step - loss: 0.0257 - accuracy: 0.9932 - val_loss: 0.5271 - val_accuracy: 0.8806\n",
      "Epoch 7/10\n",
      "157/157 [==============================] - 1s 6ms/step - loss: 0.0153 - accuracy: 0.9971 - val_loss: 0.5678 - val_accuracy: 0.8760\n",
      "Epoch 8/10\n",
      "157/157 [==============================] - 1s 6ms/step - loss: 0.0100 - accuracy: 0.9978 - val_loss: 0.6258 - val_accuracy: 0.8740\n",
      "Epoch 9/10\n",
      "157/157 [==============================] - 1s 5ms/step - loss: 0.0088 - accuracy: 0.9981 - val_loss: 0.6875 - val_accuracy: 0.8756\n",
      "Epoch 10/10\n",
      "157/157 [==============================] - 1s 6ms/step - loss: 0.0077 - accuracy: 0.9979 - val_loss: 0.7333 - val_accuracy: 0.8724\n"
     ]
    }
   ],
   "source": [
    "# Fit data to model\n",
    "history = model.fit(x_train_v, y_train, batch_size=128, epochs=10, verbose=1, validation_split=0.2)\n"
   ]
  },
  {
   "cell_type": "code",
   "execution_count": null,
   "metadata": {},
   "outputs": [],
   "source": []
  },
  {
   "cell_type": "code",
   "execution_count": 101,
   "metadata": {},
   "outputs": [
    {
     "name": "stdout",
     "output_type": "stream",
     "text": [
      "train loss: 0.14877842366695404 / Train accuracy: 0.9743599891662598\n"
     ]
    }
   ],
   "source": [
    "# Generate generalization metrics\n",
    "score = model.evaluate(x_train_v, y_train, verbose=0)\n",
    "print(f'train loss: {score[0]} / Train accuracy: {score[1]}')"
   ]
  },
  {
   "cell_type": "code",
   "execution_count": 102,
   "metadata": {},
   "outputs": [
    {
     "name": "stdout",
     "output_type": "stream",
     "text": [
      "Test loss: 0.7703981995582581 / Test accuracy: 0.8638799786567688\n"
     ]
    }
   ],
   "source": [
    "# Generate generalization metrics\n",
    "score = model.evaluate(x_test_v, y_test, verbose=0)\n",
    "print(f'Test loss: {score[0]} / Test accuracy: {score[1]}')"
   ]
  },
  {
   "cell_type": "code",
   "execution_count": null,
   "metadata": {},
   "outputs": [],
   "source": []
  },
  {
   "cell_type": "markdown",
   "metadata": {},
   "source": [
    "###  Time Series Prediction\n",
    "\n",
    "We now show how to fit the models in Section ???\n",
    "for  time series prediction.\n",
    "We first set up the data, and standardize each of the variables.\n",
    "\n",
    "We are using NYSE data"
   ]
  },
  {
   "cell_type": "code",
   "execution_count": 103,
   "metadata": {},
   "outputs": [],
   "source": [
    "\n",
    "Data = pyreadr.read_r('data/NYSE.rda')\n",
    "Data = Data['NYSE']"
   ]
  },
  {
   "cell_type": "code",
   "execution_count": null,
   "metadata": {},
   "outputs": [],
   "source": []
  },
  {
   "cell_type": "markdown",
   "metadata": {},
   "source": [
    "The  variable `istrain` contains a `TRUE` for each year that  is in the training set, and a `FALSE` for each year\n",
    " in the test set.\n",
    "\n",
    "We first write functions to create lagged versions of the three time series.  We start with a function that takes as input a data\n",
    "matrix and a lag $L$, and returns a lagged version of the matrix. It\n",
    "simply inserts $L$ rows of `NA` at the top, and truncates the\n",
    "bottom."
   ]
  },
  {
   "cell_type": "code",
   "execution_count": null,
   "metadata": {},
   "outputs": [],
   "source": []
  },
  {
   "cell_type": "code",
   "execution_count": 104,
   "metadata": {},
   "outputs": [],
   "source": [
    "Data_v = Data[['date', 'log_volume', 'train']]\n",
    "Data_v['lag_1']= Data_v['log_volume'].shift(1)\n",
    "Data_v['lag_2']= Data_v['log_volume'].shift(2)\n",
    "Data_v['lag_3']= Data_v['log_volume'].shift(3)\n",
    "Data_v['lag_4']= Data_v['log_volume'].shift(4)\n",
    "Data_v['lag_5']= Data_v['log_volume'].shift(5)\n"
   ]
  },
  {
   "cell_type": "code",
   "execution_count": null,
   "metadata": {},
   "outputs": [],
   "source": []
  },
  {
   "cell_type": "markdown",
   "metadata": {},
   "source": [
    "If we look at the first five rows of this frame, we will see some\n",
    "missing values in the lagged variables (due to the construction above). We remove these rows, and adjust `istrain`\n",
    "accordingly."
   ]
  },
  {
   "cell_type": "code",
   "execution_count": 105,
   "metadata": {},
   "outputs": [],
   "source": [
    "Data_v.dropna(inplace = True)"
   ]
  },
  {
   "cell_type": "code",
   "execution_count": 106,
   "metadata": {},
   "outputs": [],
   "source": [
    "# creat train test partition"
   ]
  },
  {
   "cell_type": "code",
   "execution_count": 107,
   "metadata": {},
   "outputs": [],
   "source": [
    "train_data = Data_v[Data_v['train']==True]\n",
    "test_data = Data_v[Data_v['train']==False]\n",
    "\n",
    "X_train  = train_data[['lag_1','lag_2','lag_3','lag_4','lag_5']]\n",
    "y_train = train_data['log_volume']\n",
    "\n",
    "\n",
    "X_test  =test_data[['lag_1','lag_2','lag_3','lag_4','lag_5']]\n",
    "y_test = test_data['log_volume']"
   ]
  },
  {
   "cell_type": "code",
   "execution_count": null,
   "metadata": {},
   "outputs": [],
   "source": []
  },
  {
   "cell_type": "code",
   "execution_count": null,
   "metadata": {},
   "outputs": [],
   "source": []
  },
  {
   "cell_type": "markdown",
   "metadata": {},
   "source": [
    "We now fit the linear AR model to the training data using `lm()`, and predict on the\n",
    "test data."
   ]
  },
  {
   "cell_type": "code",
   "execution_count": 108,
   "metadata": {},
   "outputs": [
    {
     "data": {
      "text/plain": [
       "0.14088305311379024"
      ]
     },
     "execution_count": 108,
     "metadata": {},
     "output_type": "execute_result"
    }
   ],
   "source": [
    "\n",
    "lfit = LM.LinearRegression().fit(X_train, y_train.values)\n",
    "lpred = lfit.predict(X_test)\n",
    "#Calculate mean absolute error for the linear model predction\n",
    "np.mean(np.abs(lpred - y_test.values))"
   ]
  },
  {
   "cell_type": "code",
   "execution_count": 109,
   "metadata": {},
   "outputs": [],
   "source": [
    "# calculaate R^2 of the result \n",
    "from sklearn.metrics import r2_score"
   ]
  },
  {
   "cell_type": "code",
   "execution_count": 110,
   "metadata": {},
   "outputs": [
    {
     "data": {
      "text/plain": [
       "0.37324147593449986"
      ]
     },
     "execution_count": 110,
     "metadata": {},
     "output_type": "execute_result"
    }
   ],
   "source": [
    "r2_score(y_test.values, lpred)"
   ]
  },
  {
   "cell_type": "code",
   "execution_count": null,
   "metadata": {},
   "outputs": [],
   "source": []
  },
  {
   "cell_type": "code",
   "execution_count": 111,
   "metadata": {},
   "outputs": [],
   "source": [
    "#set up a deep neural network for time seris prediction"
   ]
  },
  {
   "cell_type": "code",
   "execution_count": 112,
   "metadata": {},
   "outputs": [],
   "source": [
    "tf.keras.backend.clear_session()"
   ]
  },
  {
   "cell_type": "code",
   "execution_count": 113,
   "metadata": {},
   "outputs": [
    {
     "name": "stdout",
     "output_type": "stream",
     "text": [
      "Model: \"sequential\"\n",
      "_________________________________________________________________\n",
      "Layer (type)                 Output Shape              Param #   \n",
      "=================================================================\n",
      "dense (Dense)                (None, 32)                192       \n",
      "_________________________________________________________________\n",
      "dropout (Dropout)            (None, 32)                0         \n",
      "_________________________________________________________________\n",
      "dense_1 (Dense)              (None, 16)                528       \n",
      "_________________________________________________________________\n",
      "dropout_1 (Dropout)          (None, 16)                0         \n",
      "_________________________________________________________________\n",
      "dense_2 (Dense)              (None, 8)                 136       \n",
      "_________________________________________________________________\n",
      "dropout_2 (Dropout)          (None, 8)                 0         \n",
      "_________________________________________________________________\n",
      "dense_3 (Dense)              (None, 1)                 9         \n",
      "=================================================================\n",
      "Total params: 865\n",
      "Trainable params: 865\n",
      "Non-trainable params: 0\n",
      "_________________________________________________________________\n"
     ]
    }
   ],
   "source": [
    "model = Sequential()\n",
    "model.add(Dense(32, input_dim=X_train.shape[1], activation='relu'))\n",
    "model.add(Dropout(rate = 0.4))\n",
    "model.add(Dense(16, activation='relu'))\n",
    "model.add(Dropout(rate = 0.2))\n",
    "model.add(Dense(8, activation='relu'))\n",
    "model.add(Dropout(rate = 0.2))\n",
    "model.add(Dense(1))\n",
    "model.summary()"
   ]
  },
  {
   "cell_type": "code",
   "execution_count": 114,
   "metadata": {},
   "outputs": [],
   "source": [
    "model.compile(loss='mse', optimizer='adam', metrics=[\"mean_absolute_error\"])"
   ]
  },
  {
   "cell_type": "code",
   "execution_count": 115,
   "metadata": {},
   "outputs": [
    {
     "name": "stdout",
     "output_type": "stream",
     "text": [
      "Epoch 1/100\n",
      "WARNING:tensorflow:AutoGraph could not transform <function Model.make_train_function.<locals>.train_function at 0x124400950> and will run it as-is.\n",
      "Please report this to the TensorFlow team. When filing the bug, set the verbosity to 10 (on Linux, `export AUTOGRAPH_VERBOSITY=10`) and attach the full output.\n",
      "Cause: 'arguments' object has no attribute 'posonlyargs'\n",
      "To silence this warning, decorate the function with @tf.autograph.experimental.do_not_convert\n",
      "WARNING: AutoGraph could not transform <function Model.make_train_function.<locals>.train_function at 0x124400950> and will run it as-is.\n",
      "Please report this to the TensorFlow team. When filing the bug, set the verbosity to 10 (on Linux, `export AUTOGRAPH_VERBOSITY=10`) and attach the full output.\n",
      "Cause: 'arguments' object has no attribute 'posonlyargs'\n",
      "To silence this warning, decorate the function with @tf.autograph.experimental.do_not_convert\n",
      "106/134 [======================>.......] - ETA: 0s - loss: 0.0482 - mean_absolute_error: 0.1693 WARNING:tensorflow:AutoGraph could not transform <function Model.make_test_function.<locals>.test_function at 0x123028440> and will run it as-is.\n",
      "Please report this to the TensorFlow team. When filing the bug, set the verbosity to 10 (on Linux, `export AUTOGRAPH_VERBOSITY=10`) and attach the full output.\n",
      "Cause: 'arguments' object has no attribute 'posonlyargs'\n",
      "To silence this warning, decorate the function with @tf.autograph.experimental.do_not_convert\n",
      "WARNING: AutoGraph could not transform <function Model.make_test_function.<locals>.test_function at 0x123028440> and will run it as-is.\n",
      "Please report this to the TensorFlow team. When filing the bug, set the verbosity to 10 (on Linux, `export AUTOGRAPH_VERBOSITY=10`) and attach the full output.\n",
      "Cause: 'arguments' object has no attribute 'posonlyargs'\n",
      "To silence this warning, decorate the function with @tf.autograph.experimental.do_not_convert\n",
      "134/134 [==============================] - 1s 3ms/step - loss: 0.0473 - mean_absolute_error: 0.1677 - val_loss: 0.0425 - val_mean_absolute_error: 0.1526\n",
      "Epoch 2/100\n",
      "134/134 [==============================] - 0s 2ms/step - loss: 0.0393 - mean_absolute_error: 0.1507 - val_loss: 0.0406 - val_mean_absolute_error: 0.1491\n",
      "Epoch 3/100\n",
      "134/134 [==============================] - 0s 2ms/step - loss: 0.0346 - mean_absolute_error: 0.1421 - val_loss: 0.0394 - val_mean_absolute_error: 0.1464\n",
      "Epoch 4/100\n",
      "134/134 [==============================] - 0s 2ms/step - loss: 0.0352 - mean_absolute_error: 0.1428 - val_loss: 0.0393 - val_mean_absolute_error: 0.1460\n",
      "Epoch 5/100\n",
      "134/134 [==============================] - 0s 2ms/step - loss: 0.0323 - mean_absolute_error: 0.1359 - val_loss: 0.0383 - val_mean_absolute_error: 0.1443\n",
      "Epoch 6/100\n",
      "134/134 [==============================] - 0s 2ms/step - loss: 0.0323 - mean_absolute_error: 0.1368 - val_loss: 0.0381 - val_mean_absolute_error: 0.1436\n",
      "Epoch 7/100\n",
      "134/134 [==============================] - 0s 2ms/step - loss: 0.0325 - mean_absolute_error: 0.1377 - val_loss: 0.0373 - val_mean_absolute_error: 0.1427\n",
      "Epoch 8/100\n",
      "134/134 [==============================] - 0s 2ms/step - loss: 0.0319 - mean_absolute_error: 0.1355 - val_loss: 0.0374 - val_mean_absolute_error: 0.1430\n",
      "Epoch 9/100\n",
      "134/134 [==============================] - 0s 2ms/step - loss: 0.0311 - mean_absolute_error: 0.1346 - val_loss: 0.0384 - val_mean_absolute_error: 0.1442\n",
      "Epoch 10/100\n",
      "134/134 [==============================] - 0s 2ms/step - loss: 0.0293 - mean_absolute_error: 0.1313 - val_loss: 0.0379 - val_mean_absolute_error: 0.1432\n",
      "Epoch 11/100\n",
      "134/134 [==============================] - 0s 2ms/step - loss: 0.0304 - mean_absolute_error: 0.1332 - val_loss: 0.0371 - val_mean_absolute_error: 0.1420\n",
      "Epoch 12/100\n",
      "134/134 [==============================] - 0s 2ms/step - loss: 0.0288 - mean_absolute_error: 0.1290 - val_loss: 0.0370 - val_mean_absolute_error: 0.1419\n",
      "Epoch 13/100\n",
      "134/134 [==============================] - 0s 2ms/step - loss: 0.0302 - mean_absolute_error: 0.1325 - val_loss: 0.0376 - val_mean_absolute_error: 0.1427\n",
      "Epoch 14/100\n",
      "134/134 [==============================] - 0s 2ms/step - loss: 0.0281 - mean_absolute_error: 0.1276 - val_loss: 0.0362 - val_mean_absolute_error: 0.1408\n",
      "Epoch 15/100\n",
      "134/134 [==============================] - 0s 2ms/step - loss: 0.0298 - mean_absolute_error: 0.1316 - val_loss: 0.0374 - val_mean_absolute_error: 0.1422\n",
      "Epoch 16/100\n",
      "134/134 [==============================] - 0s 2ms/step - loss: 0.0290 - mean_absolute_error: 0.1293 - val_loss: 0.0362 - val_mean_absolute_error: 0.1412\n",
      "Epoch 17/100\n",
      "134/134 [==============================] - 0s 2ms/step - loss: 0.0282 - mean_absolute_error: 0.1300 - val_loss: 0.0365 - val_mean_absolute_error: 0.1413\n",
      "Epoch 18/100\n",
      "134/134 [==============================] - 0s 2ms/step - loss: 0.0284 - mean_absolute_error: 0.1289 - val_loss: 0.0367 - val_mean_absolute_error: 0.1415\n",
      "Epoch 19/100\n",
      "134/134 [==============================] - 0s 2ms/step - loss: 0.0297 - mean_absolute_error: 0.1312 - val_loss: 0.0368 - val_mean_absolute_error: 0.1421\n",
      "Epoch 20/100\n",
      "134/134 [==============================] - 0s 2ms/step - loss: 0.0280 - mean_absolute_error: 0.1260 - val_loss: 0.0371 - val_mean_absolute_error: 0.1423\n",
      "Epoch 21/100\n",
      "134/134 [==============================] - 0s 2ms/step - loss: 0.0287 - mean_absolute_error: 0.1296 - val_loss: 0.0379 - val_mean_absolute_error: 0.1432\n",
      "Epoch 22/100\n",
      "134/134 [==============================] - 0s 2ms/step - loss: 0.0299 - mean_absolute_error: 0.1293 - val_loss: 0.0373 - val_mean_absolute_error: 0.1427\n",
      "Epoch 23/100\n",
      "134/134 [==============================] - 0s 2ms/step - loss: 0.0278 - mean_absolute_error: 0.1268 - val_loss: 0.0370 - val_mean_absolute_error: 0.1423\n",
      "Epoch 24/100\n",
      "134/134 [==============================] - 0s 2ms/step - loss: 0.0294 - mean_absolute_error: 0.1295 - val_loss: 0.0368 - val_mean_absolute_error: 0.1421\n",
      "Epoch 25/100\n",
      "134/134 [==============================] - 0s 1ms/step - loss: 0.0277 - mean_absolute_error: 0.1278 - val_loss: 0.0364 - val_mean_absolute_error: 0.1421\n",
      "Epoch 26/100\n",
      "134/134 [==============================] - 0s 2ms/step - loss: 0.0287 - mean_absolute_error: 0.1301 - val_loss: 0.0365 - val_mean_absolute_error: 0.1418\n",
      "Epoch 27/100\n",
      "134/134 [==============================] - 0s 2ms/step - loss: 0.0274 - mean_absolute_error: 0.1251 - val_loss: 0.0369 - val_mean_absolute_error: 0.1419\n",
      "Epoch 28/100\n",
      "134/134 [==============================] - 0s 2ms/step - loss: 0.0284 - mean_absolute_error: 0.1292 - val_loss: 0.0364 - val_mean_absolute_error: 0.1414\n",
      "Epoch 29/100\n",
      "134/134 [==============================] - 0s 2ms/step - loss: 0.0286 - mean_absolute_error: 0.1282 - val_loss: 0.0371 - val_mean_absolute_error: 0.1423\n",
      "Epoch 30/100\n",
      "134/134 [==============================] - 1s 11ms/step - loss: 0.0289 - mean_absolute_error: 0.1282 - val_loss: 0.0371 - val_mean_absolute_error: 0.1428\n",
      "Epoch 31/100\n",
      "134/134 [==============================] - 0s 2ms/step - loss: 0.0284 - mean_absolute_error: 0.1288 - val_loss: 0.0368 - val_mean_absolute_error: 0.1421\n",
      "Epoch 32/100\n",
      "134/134 [==============================] - 0s 2ms/step - loss: 0.0278 - mean_absolute_error: 0.1277 - val_loss: 0.0365 - val_mean_absolute_error: 0.1414\n",
      "Epoch 33/100\n",
      "134/134 [==============================] - 0s 2ms/step - loss: 0.0278 - mean_absolute_error: 0.1267 - val_loss: 0.0369 - val_mean_absolute_error: 0.1419\n",
      "Epoch 34/100\n",
      "134/134 [==============================] - 0s 2ms/step - loss: 0.0283 - mean_absolute_error: 0.1275 - val_loss: 0.0364 - val_mean_absolute_error: 0.1412\n",
      "Epoch 35/100\n",
      "134/134 [==============================] - 0s 2ms/step - loss: 0.0274 - mean_absolute_error: 0.1269 - val_loss: 0.0366 - val_mean_absolute_error: 0.1417\n",
      "Epoch 36/100\n",
      "134/134 [==============================] - 0s 2ms/step - loss: 0.0288 - mean_absolute_error: 0.1287 - val_loss: 0.0371 - val_mean_absolute_error: 0.1423\n",
      "Epoch 37/100\n",
      "134/134 [==============================] - 0s 2ms/step - loss: 0.0286 - mean_absolute_error: 0.1277 - val_loss: 0.0366 - val_mean_absolute_error: 0.1418\n",
      "Epoch 38/100\n",
      "134/134 [==============================] - 0s 2ms/step - loss: 0.0268 - mean_absolute_error: 0.1247 - val_loss: 0.0370 - val_mean_absolute_error: 0.1423\n"
     ]
    },
    {
     "name": "stdout",
     "output_type": "stream",
     "text": [
      "Epoch 39/100\n",
      "134/134 [==============================] - 0s 2ms/step - loss: 0.0275 - mean_absolute_error: 0.1263 - val_loss: 0.0372 - val_mean_absolute_error: 0.1429\n",
      "Epoch 40/100\n",
      "134/134 [==============================] - 0s 2ms/step - loss: 0.0271 - mean_absolute_error: 0.1264 - val_loss: 0.0361 - val_mean_absolute_error: 0.1416\n",
      "Epoch 41/100\n",
      "134/134 [==============================] - 0s 2ms/step - loss: 0.0290 - mean_absolute_error: 0.1296 - val_loss: 0.0363 - val_mean_absolute_error: 0.1413\n",
      "Epoch 42/100\n",
      "134/134 [==============================] - 0s 1ms/step - loss: 0.0277 - mean_absolute_error: 0.1261 - val_loss: 0.0362 - val_mean_absolute_error: 0.1415\n",
      "Epoch 43/100\n",
      "134/134 [==============================] - 0s 2ms/step - loss: 0.0280 - mean_absolute_error: 0.1266 - val_loss: 0.0366 - val_mean_absolute_error: 0.1418\n",
      "Epoch 44/100\n",
      "134/134 [==============================] - 0s 1ms/step - loss: 0.0275 - mean_absolute_error: 0.1263 - val_loss: 0.0367 - val_mean_absolute_error: 0.1420\n",
      "Epoch 45/100\n",
      "134/134 [==============================] - 0s 2ms/step - loss: 0.0274 - mean_absolute_error: 0.1250 - val_loss: 0.0371 - val_mean_absolute_error: 0.1425\n",
      "Epoch 46/100\n",
      "134/134 [==============================] - 0s 2ms/step - loss: 0.0263 - mean_absolute_error: 0.1248 - val_loss: 0.0369 - val_mean_absolute_error: 0.1421\n",
      "Epoch 47/100\n",
      "134/134 [==============================] - 0s 1ms/step - loss: 0.0274 - mean_absolute_error: 0.1263 - val_loss: 0.0369 - val_mean_absolute_error: 0.1426\n",
      "Epoch 48/100\n",
      "134/134 [==============================] - 0s 2ms/step - loss: 0.0270 - mean_absolute_error: 0.1253 - val_loss: 0.0370 - val_mean_absolute_error: 0.1424\n",
      "Epoch 49/100\n",
      "134/134 [==============================] - 0s 1ms/step - loss: 0.0276 - mean_absolute_error: 0.1252 - val_loss: 0.0370 - val_mean_absolute_error: 0.1427\n",
      "Epoch 50/100\n",
      "134/134 [==============================] - 0s 1ms/step - loss: 0.0259 - mean_absolute_error: 0.1245 - val_loss: 0.0365 - val_mean_absolute_error: 0.1421\n",
      "Epoch 51/100\n",
      "134/134 [==============================] - 0s 1ms/step - loss: 0.0283 - mean_absolute_error: 0.1270 - val_loss: 0.0363 - val_mean_absolute_error: 0.1420\n",
      "Epoch 52/100\n",
      "134/134 [==============================] - 0s 2ms/step - loss: 0.0271 - mean_absolute_error: 0.1240 - val_loss: 0.0364 - val_mean_absolute_error: 0.1420\n",
      "Epoch 53/100\n",
      "134/134 [==============================] - 0s 1ms/step - loss: 0.0274 - mean_absolute_error: 0.1264 - val_loss: 0.0368 - val_mean_absolute_error: 0.1425\n",
      "Epoch 54/100\n",
      "134/134 [==============================] - 0s 2ms/step - loss: 0.0283 - mean_absolute_error: 0.1281 - val_loss: 0.0367 - val_mean_absolute_error: 0.1424\n",
      "Epoch 55/100\n",
      "134/134 [==============================] - 0s 1ms/step - loss: 0.0266 - mean_absolute_error: 0.1234 - val_loss: 0.0368 - val_mean_absolute_error: 0.1421\n",
      "Epoch 56/100\n",
      "134/134 [==============================] - 0s 2ms/step - loss: 0.0254 - mean_absolute_error: 0.1218 - val_loss: 0.0365 - val_mean_absolute_error: 0.1417\n",
      "Epoch 57/100\n",
      "134/134 [==============================] - 0s 1ms/step - loss: 0.0282 - mean_absolute_error: 0.1291 - val_loss: 0.0371 - val_mean_absolute_error: 0.1423\n",
      "Epoch 58/100\n",
      "134/134 [==============================] - 0s 1ms/step - loss: 0.0268 - mean_absolute_error: 0.1253 - val_loss: 0.0372 - val_mean_absolute_error: 0.1424\n",
      "Epoch 59/100\n",
      "134/134 [==============================] - 0s 1ms/step - loss: 0.0278 - mean_absolute_error: 0.1268 - val_loss: 0.0374 - val_mean_absolute_error: 0.1430\n",
      "Epoch 60/100\n",
      "134/134 [==============================] - 0s 1ms/step - loss: 0.0275 - mean_absolute_error: 0.1264 - val_loss: 0.0365 - val_mean_absolute_error: 0.1418\n",
      "Epoch 61/100\n",
      "134/134 [==============================] - 0s 2ms/step - loss: 0.0282 - mean_absolute_error: 0.1282 - val_loss: 0.0364 - val_mean_absolute_error: 0.1418\n",
      "Epoch 62/100\n",
      "134/134 [==============================] - 0s 1ms/step - loss: 0.0273 - mean_absolute_error: 0.1253 - val_loss: 0.0370 - val_mean_absolute_error: 0.1431\n",
      "Epoch 63/100\n",
      "134/134 [==============================] - 0s 2ms/step - loss: 0.0280 - mean_absolute_error: 0.1266 - val_loss: 0.0369 - val_mean_absolute_error: 0.1422\n",
      "Epoch 64/100\n",
      "134/134 [==============================] - 0s 2ms/step - loss: 0.0263 - mean_absolute_error: 0.1232 - val_loss: 0.0364 - val_mean_absolute_error: 0.1418\n",
      "Epoch 65/100\n",
      "134/134 [==============================] - 0s 2ms/step - loss: 0.0277 - mean_absolute_error: 0.1271 - val_loss: 0.0368 - val_mean_absolute_error: 0.1422\n",
      "Epoch 66/100\n",
      "134/134 [==============================] - 0s 2ms/step - loss: 0.0272 - mean_absolute_error: 0.1256 - val_loss: 0.0367 - val_mean_absolute_error: 0.1420\n",
      "Epoch 67/100\n",
      "134/134 [==============================] - 0s 2ms/step - loss: 0.0266 - mean_absolute_error: 0.1233 - val_loss: 0.0367 - val_mean_absolute_error: 0.1415\n",
      "Epoch 68/100\n",
      "134/134 [==============================] - 0s 2ms/step - loss: 0.0267 - mean_absolute_error: 0.1258 - val_loss: 0.0375 - val_mean_absolute_error: 0.1426\n",
      "Epoch 69/100\n",
      "134/134 [==============================] - 0s 2ms/step - loss: 0.0279 - mean_absolute_error: 0.1270 - val_loss: 0.0367 - val_mean_absolute_error: 0.1418\n",
      "Epoch 70/100\n",
      "134/134 [==============================] - 0s 2ms/step - loss: 0.0256 - mean_absolute_error: 0.1221 - val_loss: 0.0363 - val_mean_absolute_error: 0.1414\n",
      "Epoch 71/100\n",
      "134/134 [==============================] - 0s 2ms/step - loss: 0.0260 - mean_absolute_error: 0.1241 - val_loss: 0.0372 - val_mean_absolute_error: 0.1422\n",
      "Epoch 72/100\n",
      "134/134 [==============================] - 0s 2ms/step - loss: 0.0271 - mean_absolute_error: 0.1244 - val_loss: 0.0370 - val_mean_absolute_error: 0.1420\n",
      "Epoch 73/100\n",
      "134/134 [==============================] - 0s 2ms/step - loss: 0.0283 - mean_absolute_error: 0.1262 - val_loss: 0.0366 - val_mean_absolute_error: 0.1415\n",
      "Epoch 74/100\n",
      "134/134 [==============================] - 0s 2ms/step - loss: 0.0281 - mean_absolute_error: 0.1279 - val_loss: 0.0366 - val_mean_absolute_error: 0.1417\n",
      "Epoch 75/100\n",
      "134/134 [==============================] - 0s 2ms/step - loss: 0.0255 - mean_absolute_error: 0.1233 - val_loss: 0.0367 - val_mean_absolute_error: 0.1417\n",
      "Epoch 76/100\n",
      "134/134 [==============================] - 0s 2ms/step - loss: 0.0296 - mean_absolute_error: 0.1300 - val_loss: 0.0371 - val_mean_absolute_error: 0.1423\n",
      "Epoch 77/100\n",
      "134/134 [==============================] - 0s 2ms/step - loss: 0.0270 - mean_absolute_error: 0.1250 - val_loss: 0.0367 - val_mean_absolute_error: 0.1416\n",
      "Epoch 78/100\n",
      "134/134 [==============================] - 0s 1ms/step - loss: 0.0262 - mean_absolute_error: 0.1247 - val_loss: 0.0362 - val_mean_absolute_error: 0.1410\n",
      "Epoch 79/100\n",
      "134/134 [==============================] - 0s 2ms/step - loss: 0.0277 - mean_absolute_error: 0.1254 - val_loss: 0.0367 - val_mean_absolute_error: 0.1416\n",
      "Epoch 80/100\n",
      "134/134 [==============================] - 0s 3ms/step - loss: 0.0270 - mean_absolute_error: 0.1253 - val_loss: 0.0369 - val_mean_absolute_error: 0.1418\n",
      "Epoch 81/100\n",
      "134/134 [==============================] - 0s 2ms/step - loss: 0.0271 - mean_absolute_error: 0.1256 - val_loss: 0.0368 - val_mean_absolute_error: 0.1413\n",
      "Epoch 82/100\n",
      "134/134 [==============================] - 0s 2ms/step - loss: 0.0263 - mean_absolute_error: 0.1248 - val_loss: 0.0370 - val_mean_absolute_error: 0.1419\n",
      "Epoch 83/100\n",
      "134/134 [==============================] - 0s 1ms/step - loss: 0.0263 - mean_absolute_error: 0.1251 - val_loss: 0.0374 - val_mean_absolute_error: 0.1426\n",
      "Epoch 84/100\n",
      "134/134 [==============================] - 0s 2ms/step - loss: 0.0272 - mean_absolute_error: 0.1271 - val_loss: 0.0376 - val_mean_absolute_error: 0.1423\n",
      "Epoch 85/100\n",
      "134/134 [==============================] - 0s 1ms/step - loss: 0.0268 - mean_absolute_error: 0.1255 - val_loss: 0.0364 - val_mean_absolute_error: 0.1416\n",
      "Epoch 86/100\n",
      "134/134 [==============================] - 0s 1ms/step - loss: 0.0282 - mean_absolute_error: 0.1280 - val_loss: 0.0371 - val_mean_absolute_error: 0.1422\n",
      "Epoch 87/100\n",
      "134/134 [==============================] - 0s 1ms/step - loss: 0.0279 - mean_absolute_error: 0.1275 - val_loss: 0.0372 - val_mean_absolute_error: 0.1423\n",
      "Epoch 88/100\n",
      "134/134 [==============================] - 0s 1ms/step - loss: 0.0282 - mean_absolute_error: 0.1267 - val_loss: 0.0366 - val_mean_absolute_error: 0.1416\n",
      "Epoch 89/100\n",
      "134/134 [==============================] - 0s 1ms/step - loss: 0.0270 - mean_absolute_error: 0.1252 - val_loss: 0.0371 - val_mean_absolute_error: 0.1424\n",
      "Epoch 90/100\n",
      "134/134 [==============================] - 0s 1ms/step - loss: 0.0276 - mean_absolute_error: 0.1269 - val_loss: 0.0372 - val_mean_absolute_error: 0.1422\n",
      "Epoch 91/100\n",
      "134/134 [==============================] - 0s 1ms/step - loss: 0.0268 - mean_absolute_error: 0.1244 - val_loss: 0.0369 - val_mean_absolute_error: 0.1421\n",
      "Epoch 92/100\n",
      "134/134 [==============================] - 0s 2ms/step - loss: 0.0268 - mean_absolute_error: 0.1261 - val_loss: 0.0372 - val_mean_absolute_error: 0.1424\n",
      "Epoch 93/100\n",
      "134/134 [==============================] - 0s 1ms/step - loss: 0.0280 - mean_absolute_error: 0.1269 - val_loss: 0.0373 - val_mean_absolute_error: 0.1425\n",
      "Epoch 94/100\n",
      "134/134 [==============================] - 0s 2ms/step - loss: 0.0277 - mean_absolute_error: 0.1268 - val_loss: 0.0367 - val_mean_absolute_error: 0.1417\n",
      "Epoch 95/100\n",
      "134/134 [==============================] - 0s 2ms/step - loss: 0.0268 - mean_absolute_error: 0.1243 - val_loss: 0.0367 - val_mean_absolute_error: 0.1419\n",
      "Epoch 96/100\n",
      "134/134 [==============================] - 0s 1ms/step - loss: 0.0269 - mean_absolute_error: 0.1249 - val_loss: 0.0373 - val_mean_absolute_error: 0.1422\n",
      "Epoch 97/100\n",
      "134/134 [==============================] - 0s 1ms/step - loss: 0.0261 - mean_absolute_error: 0.1244 - val_loss: 0.0371 - val_mean_absolute_error: 0.1424\n",
      "Epoch 98/100\n",
      "134/134 [==============================] - 0s 1ms/step - loss: 0.0249 - mean_absolute_error: 0.1205 - val_loss: 0.0372 - val_mean_absolute_error: 0.1422\n",
      "Epoch 99/100\n",
      "134/134 [==============================] - 0s 1ms/step - loss: 0.0271 - mean_absolute_error: 0.1264 - val_loss: 0.0368 - val_mean_absolute_error: 0.1416\n",
      "Epoch 100/100\n",
      "134/134 [==============================] - 0s 1ms/step - loss: 0.0268 - mean_absolute_error: 0.1275 - val_loss: 0.0370 - val_mean_absolute_error: 0.1419\n"
     ]
    }
   ],
   "source": [
    "#history = model.fit(X_train, y_train.values, epochs=100, batch_size=32)\n",
    "\n",
    "history = model.fit(X_train, y_train.values,validation_data = (X_test,y_test.values), epochs=100, batch_size=32)"
   ]
  },
  {
   "cell_type": "code",
   "execution_count": null,
   "metadata": {},
   "outputs": [],
   "source": []
  },
  {
   "cell_type": "code",
   "execution_count": 116,
   "metadata": {},
   "outputs": [
    {
     "name": "stdout",
     "output_type": "stream",
     "text": [
      "WARNING:tensorflow:AutoGraph could not transform <function Model.make_predict_function.<locals>.predict_function at 0x14ae07440> and will run it as-is.\n",
      "Please report this to the TensorFlow team. When filing the bug, set the verbosity to 10 (on Linux, `export AUTOGRAPH_VERBOSITY=10`) and attach the full output.\n",
      "Cause: 'arguments' object has no attribute 'posonlyargs'\n",
      "To silence this warning, decorate the function with @tf.autograph.experimental.do_not_convert\n",
      "WARNING: AutoGraph could not transform <function Model.make_predict_function.<locals>.predict_function at 0x14ae07440> and will run it as-is.\n",
      "Please report this to the TensorFlow team. When filing the bug, set the verbosity to 10 (on Linux, `export AUTOGRAPH_VERBOSITY=10`) and attach the full output.\n",
      "Cause: 'arguments' object has no attribute 'posonlyargs'\n",
      "To silence this warning, decorate the function with @tf.autograph.experimental.do_not_convert\n"
     ]
    }
   ],
   "source": [
    "y_pred = model.predict(X_test).reshape(-1)"
   ]
  },
  {
   "cell_type": "code",
   "execution_count": 117,
   "metadata": {},
   "outputs": [
    {
     "data": {
      "text/plain": [
       "0.14186014479200618"
      ]
     },
     "execution_count": 117,
     "metadata": {},
     "output_type": "execute_result"
    }
   ],
   "source": [
    "np.mean(np.abs(y_pred - y_test.values))"
   ]
  },
  {
   "cell_type": "code",
   "execution_count": 119,
   "metadata": {},
   "outputs": [
    {
     "data": {
      "text/plain": [
       "0.35752526439761545"
      ]
     },
     "execution_count": 119,
     "metadata": {},
     "output_type": "execute_result"
    }
   ],
   "source": [
    "r2_score(y_test.values, y_pred)"
   ]
  },
  {
   "cell_type": "code",
   "execution_count": null,
   "metadata": {},
   "outputs": [],
   "source": []
  },
  {
   "cell_type": "code",
   "execution_count": 6,
   "metadata": {},
   "outputs": [],
   "source": [
    "import numpy as np"
   ]
  },
  {
   "cell_type": "code",
   "execution_count": 7,
   "metadata": {},
   "outputs": [
    {
     "name": "stdout",
     "output_type": "stream",
     "text": [
      "1.19.4\n"
     ]
    }
   ],
   "source": [
    "print(np.__version__)"
   ]
  },
  {
   "cell_type": "code",
   "execution_count": null,
   "metadata": {},
   "outputs": [],
   "source": []
  }
 ],
 "metadata": {
  "kernelspec": {
   "display_name": "Python 3",
   "language": "python",
   "name": "python3"
  },
  "language_info": {
   "codemirror_mode": {
    "name": "ipython",
    "version": 3
   },
   "file_extension": ".py",
   "mimetype": "text/x-python",
   "name": "python",
   "nbconvert_exporter": "python",
   "pygments_lexer": "ipython3",
   "version": "3.7.4"
  }
 },
 "nbformat": 4,
 "nbformat_minor": 4
}
