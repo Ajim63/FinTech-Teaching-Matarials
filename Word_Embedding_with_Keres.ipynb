{
 "cells": [
  {
   "cell_type": "markdown",
   "metadata": {},
   "source": [
    "### This document demosntrate how we can build a sentiment analysis on IMDB data using word embedding. \n",
    "Here, I use the `keras` package, which interfaces to the\n",
    "`tensorflow` package which in turn links to efficient `python` code. This code is\n",
    "impressively fast, and the package is well-structured. \n",
    "\n",
    "Important note: This `iPython notebook` need following dependencies\n",
    "`pandas`; `numpy`; `matplotlib` (for drawing figures); `keras` (for deep learning models); `tensorflow` (for running keres in the backend); If your machine don't have these libraries installed, you may see an error regarding this.\n"
   ]
  },
  {
   "cell_type": "code",
   "execution_count": 1,
   "metadata": {},
   "outputs": [],
   "source": [
    "# First we import the dependencies a.k.a python libraries which we will need to accomplish this excersie\n",
    "import pandas as pd  # pandas is a fast, powerful, flexible open source data analysis and manipulation tool\n",
    "import numpy as np   # NumPy offers comprehensive mathematical functions \n",
    "import matplotlib.pyplot as plt #Matplotlib is a comprehensive library for creating visualizations in Python.\n",
    "import tensorflow as tf     #TensorFlow is an end-to-end open source platform for machine learning.\n",
    "from tensorflow.keras.models import Sequential  \n",
    "from tensorflow.keras.layers import Embedding, Flatten, Dense, Dropout, Conv1D, MaxPooling1D\n",
    "from tensorflow.keras.datasets import imdb\n",
    "from tensorflow.keras.preprocessing.sequence import pad_sequences\n",
    "\n",
    "import warnings\n",
    "warnings.filterwarnings(\"ignore\")"
   ]
  },
  {
   "cell_type": "markdown",
   "metadata": {},
   "source": [
    "## IMDb Document Classification\n",
    "\n",
    "Now we perform Sentiment Analysis on the `IMDB` dataset, which is available as part of the `keras` package. \n",
    "We  limit the dictionary size to the 10,000  most frequently-used words and tokens."
   ]
  },
  {
   "cell_type": "code",
   "execution_count": 2,
   "metadata": {},
   "outputs": [
    {
     "name": "stdout",
     "output_type": "stream",
     "text": [
      "(25000,)\n",
      "(25000,)\n"
     ]
    }
   ],
   "source": [
    "# Load dataset\n",
    "num_distinct_words = 10000\n",
    "(x_train, y_train), (x_test, y_test) = imdb.load_data(num_words=num_distinct_words)\n",
    "print(x_train.shape)\n",
    "print(x_test.shape)"
   ]
  },
  {
   "cell_type": "code",
   "execution_count": null,
   "metadata": {},
   "outputs": [],
   "source": []
  },
  {
   "cell_type": "markdown",
   "metadata": {},
   "source": [
    "Each element of `x_train` is a vector of numbers between 0 and\n",
    "9999 (the document), referring to the words found in the dictionary.\n",
    "For example, the first training document is the positive review on. Lets see the output and the review of first \n",
    "training data"
   ]
  },
  {
   "cell_type": "code",
   "execution_count": 3,
   "metadata": {},
   "outputs": [],
   "source": [
    "# Pad all sequences\n",
    "max_sequence_length = 200\n",
    "padded_inputs = pad_sequences(x_train, maxlen=max_sequence_length, value = 0.0, padding='post', truncating ='post' ) # 0.0 because it corresponds with <PAD>\n",
    "padded_inputs_test = pad_sequences(x_test, maxlen=max_sequence_length, value = 0.0, padding='post', truncating ='post') # 0.0 because it corresponds with <PAD>\n"
   ]
  },
  {
   "cell_type": "code",
   "execution_count": 4,
   "metadata": {},
   "outputs": [
    {
     "name": "stdout",
     "output_type": "stream",
     "text": [
      "=================================================\n",
      "Sample = 0 | Length = 200 | Sentiment: 1\n",
      "=================================================\n",
      "<START> this film was just brilliant casting location scenery story direction everyone's really suited the part they played and you could just imagine being there robert <UNK> is an amazing actor and now the same being director <UNK> father came from the same scottish island as myself so i loved the fact there was a real connection with this film the witty remarks throughout the film were great it was just brilliant so much that i bought the film as soon as it was released for <UNK> and would recommend it to everyone to watch and the fly fishing was amazing really cried at the end it was so sad and you know what they say if you cry at a film it must have been good and this definitely was also <UNK> to the two little boy's that played the <UNK> of norman and paul they were just brilliant children are often left out of the <UNK> list i think because the stars that play them all grown up are such a big profile for the whole film but these children are amazing and should be praised for what they have done don't you think the whole story was\n",
      "=================================================\n",
      "Sample = 1 | Length = 200 | Sentiment: 0\n",
      "=================================================\n",
      "<START> big hair big boobs bad music and a giant safety pin these are the words to best describe this terrible movie i love cheesy horror movies and i've seen hundreds but this had got to be on of the worst ever made the plot is paper thin and ridiculous the acting is an abomination the script is completely laughable the best is the end showdown with the cop and how he worked out who the killer is it's just so damn terribly written the clothes are sickening and funny in equal <UNK> the hair is big lots of boobs <UNK> men wear those cut <UNK> shirts that show off their <UNK> sickening that men actually wore them and the music is just <UNK> trash that plays over and over again in almost every scene there is trashy music boobs and <UNK> taking away bodies and the gym still doesn't close for <UNK> all joking aside this is a truly bad film whose only charm is to look back on the disaster that was the 80's and have a good old laugh at how bad everything was back then <PAD> <PAD> <PAD> <PAD> <PAD> <PAD> <PAD> <PAD> <PAD> <PAD> <PAD>\n",
      "=================================================\n",
      "Sample = 2 | Length = 200 | Sentiment: 0\n",
      "=================================================\n",
      "<START> this has to be one of the worst films of the 1990s when my friends i were watching this film being the target audience it was aimed at we just sat watched the first half an hour with our jaws touching the floor at how bad it really was the rest of the time everyone else in the theatre just started talking to each other leaving or generally crying into their popcorn that they actually paid money they had <UNK> working to watch this feeble excuse for a film it must have looked like a great idea on paper but on film it looks like no one in the film has a clue what is going on crap acting crap costumes i can't get across how <UNK> this is to watch save yourself an hour a bit of your life <PAD> <PAD> <PAD> <PAD> <PAD> <PAD> <PAD> <PAD> <PAD> <PAD> <PAD> <PAD> <PAD> <PAD> <PAD> <PAD> <PAD> <PAD> <PAD> <PAD> <PAD> <PAD> <PAD> <PAD> <PAD> <PAD> <PAD> <PAD> <PAD> <PAD> <PAD> <PAD> <PAD> <PAD> <PAD> <PAD> <PAD> <PAD> <PAD> <PAD> <PAD> <PAD> <PAD> <PAD> <PAD> <PAD> <PAD> <PAD> <PAD> <PAD> <PAD> <PAD> <PAD> <PAD> <PAD> <PAD> <PAD> <PAD> <PAD>\n"
     ]
    }
   ],
   "source": [
    "# Obtain 3 texts\n",
    "for i in range(0,3):\n",
    "    INDEX_FROM=3   # word index offset\n",
    "    word_to_id = imdb.get_word_index()\n",
    "    word_to_id = {k:(v+INDEX_FROM) for k,v in word_to_id.items()}\n",
    "    word_to_id[\"<PAD>\"] = 0\n",
    "    word_to_id[\"<START>\"] = 1\n",
    "    word_to_id[\"<UNK>\"] = 2\n",
    "    word_to_id[\"<UNUSED>\"] = 3\n",
    "    \n",
    "    id_to_word = {value:key for key,value in word_to_id.items()}\n",
    "    print('=================================================')\n",
    "    print(f'Sample = {i} | Length = {len(padded_inputs[i])} |', \"Sentiment:\", y_train[i])\n",
    "    print('=================================================')\n",
    "    print(' '.join(id_to_word[id] for id in padded_inputs[i] ))\n",
    "    "
   ]
  },
  {
   "cell_type": "markdown",
   "metadata": {},
   "source": [
    "Now we're ready to build our simple neural network. We'll start by defining the type of model we want to build. "
   ]
  },
  {
   "cell_type": "code",
   "execution_count": 5,
   "metadata": {},
   "outputs": [],
   "source": [
    "tf.keras.backend.clear_session()"
   ]
  },
  {
   "cell_type": "code",
   "execution_count": 6,
   "metadata": {},
   "outputs": [],
   "source": [
    "# Define the Keras model\n",
    "model = Sequential()\n",
    "model.add(Embedding(num_distinct_words, 20, input_length=max_sequence_length))\n",
    "model.add(Dropout(0.50))\n",
    "model.add(Conv1D(filters=32, kernel_size=2, padding='same', activation='relu'))\n",
    "model.add(Dropout(0.50))\n",
    "model.add(MaxPooling1D(pool_size=2))\n",
    "model.add(Flatten())\n",
    "model.add(Dropout(0.50))\n",
    "model.add(Dense(1, activation='sigmoid'))"
   ]
  },
  {
   "cell_type": "markdown",
   "metadata": {},
   "source": [
    "Now complile the model and see a graphical overview of the model "
   ]
  },
  {
   "cell_type": "code",
   "execution_count": 7,
   "metadata": {
    "scrolled": false
   },
   "outputs": [
    {
     "name": "stdout",
     "output_type": "stream",
     "text": [
      "Model: \"sequential\"\n",
      "_________________________________________________________________\n",
      "Layer (type)                 Output Shape              Param #   \n",
      "=================================================================\n",
      "embedding (Embedding)        (None, 200, 20)           200000    \n",
      "_________________________________________________________________\n",
      "dropout (Dropout)            (None, 200, 20)           0         \n",
      "_________________________________________________________________\n",
      "conv1d (Conv1D)              (None, 200, 32)           1312      \n",
      "_________________________________________________________________\n",
      "dropout_1 (Dropout)          (None, 200, 32)           0         \n",
      "_________________________________________________________________\n",
      "max_pooling1d (MaxPooling1D) (None, 100, 32)           0         \n",
      "_________________________________________________________________\n",
      "flatten (Flatten)            (None, 3200)              0         \n",
      "_________________________________________________________________\n",
      "dropout_2 (Dropout)          (None, 3200)              0         \n",
      "_________________________________________________________________\n",
      "dense (Dense)                (None, 1)                 3201      \n",
      "=================================================================\n",
      "Total params: 204,513\n",
      "Trainable params: 204,513\n",
      "Non-trainable params: 0\n",
      "_________________________________________________________________\n"
     ]
    }
   ],
   "source": [
    "# Compile the model\n",
    "model.compile(optimizer='adam', loss='binary_crossentropy', metrics=['accuracy'])\n",
    "\n",
    "# Give a summary\n",
    "model.summary()\n"
   ]
  },
  {
   "cell_type": "code",
   "execution_count": 8,
   "metadata": {},
   "outputs": [
    {
     "name": "stdout",
     "output_type": "stream",
     "text": [
      "Epoch 1/10\n",
      "WARNING:tensorflow:AutoGraph could not transform <function Model.make_train_function.<locals>.train_function at 0x146213c20> and will run it as-is.\n",
      "Please report this to the TensorFlow team. When filing the bug, set the verbosity to 10 (on Linux, `export AUTOGRAPH_VERBOSITY=10`) and attach the full output.\n",
      "Cause: 'arguments' object has no attribute 'posonlyargs'\n",
      "To silence this warning, decorate the function with @tf.autograph.experimental.do_not_convert\n",
      "WARNING: AutoGraph could not transform <function Model.make_train_function.<locals>.train_function at 0x146213c20> and will run it as-is.\n",
      "Please report this to the TensorFlow team. When filing the bug, set the verbosity to 10 (on Linux, `export AUTOGRAPH_VERBOSITY=10`) and attach the full output.\n",
      "Cause: 'arguments' object has no attribute 'posonlyargs'\n",
      "To silence this warning, decorate the function with @tf.autograph.experimental.do_not_convert\n",
      "78/79 [============================>.] - ETA: 0s - loss: 0.6938 - accuracy: 0.5028WARNING:tensorflow:AutoGraph could not transform <function Model.make_test_function.<locals>.test_function at 0x1457e8830> and will run it as-is.\n",
      "Please report this to the TensorFlow team. When filing the bug, set the verbosity to 10 (on Linux, `export AUTOGRAPH_VERBOSITY=10`) and attach the full output.\n",
      "Cause: 'arguments' object has no attribute 'posonlyargs'\n",
      "To silence this warning, decorate the function with @tf.autograph.experimental.do_not_convert\n",
      "WARNING: AutoGraph could not transform <function Model.make_test_function.<locals>.test_function at 0x1457e8830> and will run it as-is.\n",
      "Please report this to the TensorFlow team. When filing the bug, set the verbosity to 10 (on Linux, `export AUTOGRAPH_VERBOSITY=10`) and attach the full output.\n",
      "Cause: 'arguments' object has no attribute 'posonlyargs'\n",
      "To silence this warning, decorate the function with @tf.autograph.experimental.do_not_convert\n",
      "79/79 [==============================] - 5s 57ms/step - loss: 0.6937 - accuracy: 0.5029 - val_loss: 0.6922 - val_accuracy: 0.5256\n",
      "Epoch 2/10\n",
      "79/79 [==============================] - 4s 51ms/step - loss: 0.6880 - accuracy: 0.5464 - val_loss: 0.6656 - val_accuracy: 0.6914\n",
      "Epoch 3/10\n",
      "79/79 [==============================] - 4s 52ms/step - loss: 0.6079 - accuracy: 0.6969 - val_loss: 0.4241 - val_accuracy: 0.8408\n",
      "Epoch 4/10\n",
      "79/79 [==============================] - 4s 52ms/step - loss: 0.3698 - accuracy: 0.8403 - val_loss: 0.3458 - val_accuracy: 0.8564\n",
      "Epoch 5/10\n",
      "79/79 [==============================] - 5s 66ms/step - loss: 0.2831 - accuracy: 0.8832 - val_loss: 0.3184 - val_accuracy: 0.8736\n",
      "Epoch 6/10\n",
      "79/79 [==============================] - 5s 62ms/step - loss: 0.2412 - accuracy: 0.9037 - val_loss: 0.3138 - val_accuracy: 0.8702\n",
      "Epoch 7/10\n",
      "79/79 [==============================] - 4s 53ms/step - loss: 0.2327 - accuracy: 0.9053 - val_loss: 0.3087 - val_accuracy: 0.8758\n",
      "Epoch 8/10\n",
      "79/79 [==============================] - 4s 50ms/step - loss: 0.1993 - accuracy: 0.9215 - val_loss: 0.3142 - val_accuracy: 0.8728\n",
      "Epoch 9/10\n",
      "79/79 [==============================] - 4s 56ms/step - loss: 0.1833 - accuracy: 0.9297 - val_loss: 0.3191 - val_accuracy: 0.8684\n",
      "Epoch 10/10\n",
      "79/79 [==============================] - 4s 56ms/step - loss: 0.1639 - accuracy: 0.9365 - val_loss: 0.3265 - val_accuracy: 0.8714\n"
     ]
    }
   ],
   "source": [
    "# Train the model\n",
    "history = model.fit(padded_inputs, y_train, epochs=10, batch_size=256, verbose=1, validation_split=0.2)"
   ]
  },
  {
   "cell_type": "markdown",
   "metadata": {},
   "source": [
    "(Here, I reduced the number of epochs to make\n",
    "    runtimes manageable; for an optimal model you may need to increase the number of epoc e.g. 50,100)*\n",
    "\n",
    "We can plot the `history` to display the error and accuracy for the training and validation data. "
   ]
  },
  {
   "cell_type": "code",
   "execution_count": 9,
   "metadata": {},
   "outputs": [
    {
     "data": {
      "image/png": "[encoded data removed]",
      "text/plain": [
       "<Figure size 288x576 with 2 Axes>"
      ]
     },
     "metadata": {
      "needs_background": "light"
     },
     "output_type": "display_data"
    }
   ],
   "source": [
    "# plotting the error and accuracy metrics\n",
    "fig = plt.figure(figsize =(4,8))\n",
    "plt.subplot(2,1,1)\n",
    "plt.plot(history.history['accuracy'])\n",
    "plt.plot(history.history['val_accuracy'])\n",
    "plt.title('Model Accuracy')\n",
    "plt.ylabel('accuracy')\n",
    "plt.xlabel('epoch')\n",
    "plt.legend(['train', 'validation'], loc='lower right')\n",
    "\n",
    "\n",
    "plt.subplot(2,1,2)\n",
    "plt.plot(history.history['loss'])\n",
    "plt.plot(history.history['val_loss'])\n",
    "plt.title('Model Loss')\n",
    "plt.ylabel('loss')\n",
    "plt.xlabel('epoch')\n",
    "plt.legend(['train', 'validation'], loc='upper right')\n",
    "plt.tight_layout()\n",
    "plt.show()"
   ]
  },
  {
   "cell_type": "markdown",
   "metadata": {},
   "source": [
    "Finally, lets evaluate how our model perform in the test data"
   ]
  },
  {
   "cell_type": "code",
   "execution_count": 10,
   "metadata": {},
   "outputs": [
    {
     "name": "stdout",
     "output_type": "stream",
     "text": [
      "Test results - Loss: 0.3748 - Accuracy: 84.56%\n"
     ]
    }
   ],
   "source": [
    "test_results = model.evaluate(padded_inputs_test, y_test, verbose=False)\n",
    "print(f'Test results - Loss: {np.round(test_results[0],4)} - Accuracy: {np.round(100*test_results[1],2)}%')"
   ]
  },
  {
   "cell_type": "markdown",
   "metadata": {},
   "source": [
    "This model takes 5 minutes to run and achieves 85% accuracy on the test\n",
    "data. Although this is not terrible for 2-class data, given the simple architecture of the model (a random\n",
    "classifier gets 50% accuracy).\n",
    "Typically, it takes a lot of architecture carpentry,\n",
    "fiddling with regularization, and time to achieve the perfect result.\n"
   ]
  },
  {
   "cell_type": "code",
   "execution_count": null,
   "metadata": {},
   "outputs": [],
   "source": []
  },
  {
   "cell_type": "markdown",
   "metadata": {},
   "source": [
    "### Word Embedding\n",
    "Now lets look at the learned embedding of words in our dictionary "
   ]
  },
  {
   "cell_type": "code",
   "execution_count": 11,
   "metadata": {},
   "outputs": [],
   "source": [
    "# Get the word encoding from the \"embedding\" layer\n",
    "weights = model.get_layer('embedding').get_weights()[0]"
   ]
  },
  {
   "cell_type": "code",
   "execution_count": 12,
   "metadata": {},
   "outputs": [
    {
     "name": "stdout",
     "output_type": "stream",
     "text": [
      "Its vector values: [-0.00873131  0.03420371 -0.01941963  0.02276299 -0.03335036  0.018992\n",
      " -0.01255463  0.06348497 -0.06582938  0.06057144  0.03291958 -0.0218301\n",
      " -0.04654805 -0.00793621  0.00760541 -0.00136135 -0.05946654  0.01694172\n",
      " -0.03151225  0.00238616]\n"
     ]
    }
   ],
   "source": [
    "word = 'king' \n",
    "word_number = word_to_id.get(word)\n",
    "print(\"Its vector values:\", weights[word_number])"
   ]
  },
  {
   "cell_type": "code",
   "execution_count": null,
   "metadata": {},
   "outputs": [],
   "source": []
  },
  {
   "cell_type": "markdown",
   "metadata": {},
   "source": [
    "Let's align each words with its associated word embedding \n",
    "by represeting word dictionary and their embedding in a pandas data frame"
   ]
  },
  {
   "cell_type": "code",
   "execution_count": 13,
   "metadata": {},
   "outputs": [],
   "source": [
    "Word_df = pd.DataFrame.from_dict(id_to_word, orient='index', columns=['Word']).sort_index()\n",
    "weigts_df = pd.DataFrame(weights)\n",
    "Word_df = pd.concat([Word_df, weigts_df], axis=1)"
   ]
  },
  {
   "cell_type": "markdown",
   "metadata": {},
   "source": [
    "#### Lets view a few words and their associated embedding in a 2D space. \n",
    "We only consider 300 words here. Remember our model is build on 10,000 words."
   ]
  },
  {
   "cell_type": "code",
   "execution_count": 14,
   "metadata": {},
   "outputs": [],
   "source": [
    "Word_df_sample = Word_df.iloc[300:600]\n",
    "Word_df_sample.set_index('Word',inplace =True)"
   ]
  },
  {
   "cell_type": "code",
   "execution_count": 15,
   "metadata": {},
   "outputs": [
    {
     "data": {
      "text/html": [
       "<div>\n",
       "<style scoped>\n",
       "    .dataframe tbody tr th:only-of-type {\n",
       "        vertical-align: middle;\n",
       "    }\n",
       "\n",
       "    .dataframe tbody tr th {\n",
       "        vertical-align: top;\n",
       "    }\n",
       "\n",
       "    .dataframe thead th {\n",
       "        text-align: right;\n",
       "    }\n",
       "</style>\n",
       "<table border=\"1\" class=\"dataframe\">\n",
       "  <thead>\n",
       "    <tr style=\"text-align: right;\">\n",
       "      <th></th>\n",
       "      <th>0</th>\n",
       "      <th>1</th>\n",
       "      <th>2</th>\n",
       "      <th>3</th>\n",
       "      <th>4</th>\n",
       "      <th>5</th>\n",
       "      <th>6</th>\n",
       "      <th>7</th>\n",
       "      <th>8</th>\n",
       "      <th>9</th>\n",
       "      <th>10</th>\n",
       "      <th>11</th>\n",
       "      <th>12</th>\n",
       "      <th>13</th>\n",
       "      <th>14</th>\n",
       "      <th>15</th>\n",
       "      <th>16</th>\n",
       "      <th>17</th>\n",
       "      <th>18</th>\n",
       "      <th>19</th>\n",
       "    </tr>\n",
       "    <tr>\n",
       "      <th>Word</th>\n",
       "      <th></th>\n",
       "      <th></th>\n",
       "      <th></th>\n",
       "      <th></th>\n",
       "      <th></th>\n",
       "      <th></th>\n",
       "      <th></th>\n",
       "      <th></th>\n",
       "      <th></th>\n",
       "      <th></th>\n",
       "      <th></th>\n",
       "      <th></th>\n",
       "      <th></th>\n",
       "      <th></th>\n",
       "      <th></th>\n",
       "      <th></th>\n",
       "      <th></th>\n",
       "      <th></th>\n",
       "      <th></th>\n",
       "      <th></th>\n",
       "    </tr>\n",
       "  </thead>\n",
       "  <tbody>\n",
       "    <tr>\n",
       "      <th>1</th>\n",
       "      <td>-0.058271</td>\n",
       "      <td>-0.035071</td>\n",
       "      <td>-0.100013</td>\n",
       "      <td>0.100189</td>\n",
       "      <td>0.033092</td>\n",
       "      <td>-0.102657</td>\n",
       "      <td>0.070699</td>\n",
       "      <td>-0.049904</td>\n",
       "      <td>0.021201</td>\n",
       "      <td>-0.052749</td>\n",
       "      <td>0.089251</td>\n",
       "      <td>0.083717</td>\n",
       "      <td>-0.080284</td>\n",
       "      <td>0.035533</td>\n",
       "      <td>0.023656</td>\n",
       "      <td>0.034390</td>\n",
       "      <td>0.018758</td>\n",
       "      <td>-0.010222</td>\n",
       "      <td>-0.004251</td>\n",
       "      <td>-0.061140</td>\n",
       "    </tr>\n",
       "    <tr>\n",
       "      <th>said</th>\n",
       "      <td>-0.023741</td>\n",
       "      <td>-0.019688</td>\n",
       "      <td>0.031774</td>\n",
       "      <td>0.058232</td>\n",
       "      <td>-0.033875</td>\n",
       "      <td>-0.032650</td>\n",
       "      <td>0.030206</td>\n",
       "      <td>-0.057291</td>\n",
       "      <td>-0.055940</td>\n",
       "      <td>0.036517</td>\n",
       "      <td>-0.002332</td>\n",
       "      <td>0.013962</td>\n",
       "      <td>-0.017573</td>\n",
       "      <td>0.045337</td>\n",
       "      <td>-0.047685</td>\n",
       "      <td>0.023433</td>\n",
       "      <td>0.012725</td>\n",
       "      <td>0.001753</td>\n",
       "      <td>-0.034934</td>\n",
       "      <td>-0.013675</td>\n",
       "    </tr>\n",
       "    <tr>\n",
       "      <th>effects</th>\n",
       "      <td>0.010973</td>\n",
       "      <td>-0.078924</td>\n",
       "      <td>-0.027829</td>\n",
       "      <td>0.097311</td>\n",
       "      <td>0.000875</td>\n",
       "      <td>-0.005154</td>\n",
       "      <td>0.093791</td>\n",
       "      <td>-0.003395</td>\n",
       "      <td>-0.050586</td>\n",
       "      <td>0.024380</td>\n",
       "      <td>0.002192</td>\n",
       "      <td>0.016799</td>\n",
       "      <td>0.014501</td>\n",
       "      <td>0.021273</td>\n",
       "      <td>0.027393</td>\n",
       "      <td>-0.002959</td>\n",
       "      <td>0.060263</td>\n",
       "      <td>0.067970</td>\n",
       "      <td>-0.000156</td>\n",
       "      <td>-0.042312</td>\n",
       "    </tr>\n",
       "    <tr>\n",
       "      <th>later</th>\n",
       "      <td>-0.007602</td>\n",
       "      <td>-0.005899</td>\n",
       "      <td>0.005834</td>\n",
       "      <td>-0.020460</td>\n",
       "      <td>0.015338</td>\n",
       "      <td>0.034601</td>\n",
       "      <td>0.021033</td>\n",
       "      <td>-0.033817</td>\n",
       "      <td>0.028196</td>\n",
       "      <td>0.012171</td>\n",
       "      <td>-0.028175</td>\n",
       "      <td>-0.037647</td>\n",
       "      <td>0.046707</td>\n",
       "      <td>-0.027009</td>\n",
       "      <td>-0.021423</td>\n",
       "      <td>0.007820</td>\n",
       "      <td>0.020532</td>\n",
       "      <td>-0.077080</td>\n",
       "      <td>-0.066339</td>\n",
       "      <td>0.027679</td>\n",
       "    </tr>\n",
       "    <tr>\n",
       "      <th>takes</th>\n",
       "      <td>-0.002689</td>\n",
       "      <td>0.048157</td>\n",
       "      <td>-0.005140</td>\n",
       "      <td>-0.041806</td>\n",
       "      <td>0.016828</td>\n",
       "      <td>0.007850</td>\n",
       "      <td>0.009182</td>\n",
       "      <td>0.013187</td>\n",
       "      <td>0.008057</td>\n",
       "      <td>0.018284</td>\n",
       "      <td>-0.064008</td>\n",
       "      <td>-0.001562</td>\n",
       "      <td>0.049587</td>\n",
       "      <td>-0.020277</td>\n",
       "      <td>-0.034572</td>\n",
       "      <td>0.049105</td>\n",
       "      <td>-0.037136</td>\n",
       "      <td>-0.021929</td>\n",
       "      <td>0.006677</td>\n",
       "      <td>-0.006337</td>\n",
       "    </tr>\n",
       "    <tr>\n",
       "      <th>instead</th>\n",
       "      <td>-0.033358</td>\n",
       "      <td>-0.061818</td>\n",
       "      <td>-0.068767</td>\n",
       "      <td>0.126844</td>\n",
       "      <td>0.031901</td>\n",
       "      <td>-0.105049</td>\n",
       "      <td>0.042891</td>\n",
       "      <td>-0.069297</td>\n",
       "      <td>-0.109399</td>\n",
       "      <td>0.015741</td>\n",
       "      <td>0.026934</td>\n",
       "      <td>0.143095</td>\n",
       "      <td>-0.072823</td>\n",
       "      <td>0.067624</td>\n",
       "      <td>0.126220</td>\n",
       "      <td>-0.029512</td>\n",
       "      <td>0.103327</td>\n",
       "      <td>0.096170</td>\n",
       "      <td>0.096757</td>\n",
       "      <td>-0.068281</td>\n",
       "    </tr>\n",
       "    <tr>\n",
       "      <th>seem</th>\n",
       "      <td>-0.060135</td>\n",
       "      <td>-0.017007</td>\n",
       "      <td>-0.090194</td>\n",
       "      <td>0.004818</td>\n",
       "      <td>-0.011300</td>\n",
       "      <td>-0.068770</td>\n",
       "      <td>0.025725</td>\n",
       "      <td>0.024702</td>\n",
       "      <td>-0.033038</td>\n",
       "      <td>0.022654</td>\n",
       "      <td>-0.029543</td>\n",
       "      <td>0.022948</td>\n",
       "      <td>-0.025736</td>\n",
       "      <td>0.000864</td>\n",
       "      <td>0.037981</td>\n",
       "      <td>0.044039</td>\n",
       "      <td>-0.009791</td>\n",
       "      <td>0.006396</td>\n",
       "      <td>-0.009598</td>\n",
       "      <td>0.042020</td>\n",
       "    </tr>\n",
       "    <tr>\n",
       "      <th>beautiful</th>\n",
       "      <td>-0.017068</td>\n",
       "      <td>0.009733</td>\n",
       "      <td>0.141492</td>\n",
       "      <td>-0.128389</td>\n",
       "      <td>0.029310</td>\n",
       "      <td>0.131283</td>\n",
       "      <td>-0.043907</td>\n",
       "      <td>0.149141</td>\n",
       "      <td>0.158502</td>\n",
       "      <td>0.020467</td>\n",
       "      <td>-0.016085</td>\n",
       "      <td>-0.104004</td>\n",
       "      <td>0.071770</td>\n",
       "      <td>-0.114146</td>\n",
       "      <td>-0.058054</td>\n",
       "      <td>-0.031863</td>\n",
       "      <td>-0.107078</td>\n",
       "      <td>-0.112766</td>\n",
       "      <td>-0.062335</td>\n",
       "      <td>-0.013000</td>\n",
       "    </tr>\n",
       "    <tr>\n",
       "      <th>john</th>\n",
       "      <td>-0.046858</td>\n",
       "      <td>-0.000724</td>\n",
       "      <td>0.037513</td>\n",
       "      <td>-0.043107</td>\n",
       "      <td>0.013803</td>\n",
       "      <td>-0.018466</td>\n",
       "      <td>-0.033916</td>\n",
       "      <td>0.017556</td>\n",
       "      <td>0.051696</td>\n",
       "      <td>0.026923</td>\n",
       "      <td>-0.020207</td>\n",
       "      <td>-0.013122</td>\n",
       "      <td>-0.009316</td>\n",
       "      <td>0.023668</td>\n",
       "      <td>-0.031719</td>\n",
       "      <td>-0.025045</td>\n",
       "      <td>-0.070670</td>\n",
       "      <td>-0.010686</td>\n",
       "      <td>-0.021556</td>\n",
       "      <td>-0.019561</td>\n",
       "    </tr>\n",
       "    <tr>\n",
       "      <th>himself</th>\n",
       "      <td>0.054046</td>\n",
       "      <td>0.033346</td>\n",
       "      <td>-0.042687</td>\n",
       "      <td>0.043285</td>\n",
       "      <td>-0.056099</td>\n",
       "      <td>0.006293</td>\n",
       "      <td>0.013178</td>\n",
       "      <td>0.004516</td>\n",
       "      <td>0.004461</td>\n",
       "      <td>-0.022436</td>\n",
       "      <td>-0.055704</td>\n",
       "      <td>0.051842</td>\n",
       "      <td>-0.010459</td>\n",
       "      <td>0.046200</td>\n",
       "      <td>-0.055735</td>\n",
       "      <td>-0.016871</td>\n",
       "      <td>0.006575</td>\n",
       "      <td>-0.024154</td>\n",
       "      <td>0.000138</td>\n",
       "      <td>0.119840</td>\n",
       "    </tr>\n",
       "  </tbody>\n",
       "</table>\n",
       "</div>"
      ],
      "text/plain": [
       "                 0         1         2         3         4         5   \\\n",
       "Word                                                                    \n",
       "1         -0.058271 -0.035071 -0.100013  0.100189  0.033092 -0.102657   \n",
       "said      -0.023741 -0.019688  0.031774  0.058232 -0.033875 -0.032650   \n",
       "effects    0.010973 -0.078924 -0.027829  0.097311  0.000875 -0.005154   \n",
       "later     -0.007602 -0.005899  0.005834 -0.020460  0.015338  0.034601   \n",
       "takes     -0.002689  0.048157 -0.005140 -0.041806  0.016828  0.007850   \n",
       "instead   -0.033358 -0.061818 -0.068767  0.126844  0.031901 -0.105049   \n",
       "seem      -0.060135 -0.017007 -0.090194  0.004818 -0.011300 -0.068770   \n",
       "beautiful -0.017068  0.009733  0.141492 -0.128389  0.029310  0.131283   \n",
       "john      -0.046858 -0.000724  0.037513 -0.043107  0.013803 -0.018466   \n",
       "himself    0.054046  0.033346 -0.042687  0.043285 -0.056099  0.006293   \n",
       "\n",
       "                 6         7         8         9         10        11  \\\n",
       "Word                                                                    \n",
       "1          0.070699 -0.049904  0.021201 -0.052749  0.089251  0.083717   \n",
       "said       0.030206 -0.057291 -0.055940  0.036517 -0.002332  0.013962   \n",
       "effects    0.093791 -0.003395 -0.050586  0.024380  0.002192  0.016799   \n",
       "later      0.021033 -0.033817  0.028196  0.012171 -0.028175 -0.037647   \n",
       "takes      0.009182  0.013187  0.008057  0.018284 -0.064008 -0.001562   \n",
       "instead    0.042891 -0.069297 -0.109399  0.015741  0.026934  0.143095   \n",
       "seem       0.025725  0.024702 -0.033038  0.022654 -0.029543  0.022948   \n",
       "beautiful -0.043907  0.149141  0.158502  0.020467 -0.016085 -0.104004   \n",
       "john      -0.033916  0.017556  0.051696  0.026923 -0.020207 -0.013122   \n",
       "himself    0.013178  0.004516  0.004461 -0.022436 -0.055704  0.051842   \n",
       "\n",
       "                 12        13        14        15        16        17  \\\n",
       "Word                                                                    \n",
       "1         -0.080284  0.035533  0.023656  0.034390  0.018758 -0.010222   \n",
       "said      -0.017573  0.045337 -0.047685  0.023433  0.012725  0.001753   \n",
       "effects    0.014501  0.021273  0.027393 -0.002959  0.060263  0.067970   \n",
       "later      0.046707 -0.027009 -0.021423  0.007820  0.020532 -0.077080   \n",
       "takes      0.049587 -0.020277 -0.034572  0.049105 -0.037136 -0.021929   \n",
       "instead   -0.072823  0.067624  0.126220 -0.029512  0.103327  0.096170   \n",
       "seem      -0.025736  0.000864  0.037981  0.044039 -0.009791  0.006396   \n",
       "beautiful  0.071770 -0.114146 -0.058054 -0.031863 -0.107078 -0.112766   \n",
       "john      -0.009316  0.023668 -0.031719 -0.025045 -0.070670 -0.010686   \n",
       "himself   -0.010459  0.046200 -0.055735 -0.016871  0.006575 -0.024154   \n",
       "\n",
       "                 18        19  \n",
       "Word                           \n",
       "1         -0.004251 -0.061140  \n",
       "said      -0.034934 -0.013675  \n",
       "effects   -0.000156 -0.042312  \n",
       "later     -0.066339  0.027679  \n",
       "takes      0.006677 -0.006337  \n",
       "instead    0.096757 -0.068281  \n",
       "seem      -0.009598  0.042020  \n",
       "beautiful -0.062335 -0.013000  \n",
       "john      -0.021556 -0.019561  \n",
       "himself    0.000138  0.119840  "
      ]
     },
     "execution_count": 15,
     "metadata": {},
     "output_type": "execute_result"
    }
   ],
   "source": [
    "Word_df_sample.head(10)"
   ]
  },
  {
   "cell_type": "markdown",
   "metadata": {},
   "source": [
    "#### Convert 20 dimensional embedding into two dimensional space using PCA "
   ]
  },
  {
   "cell_type": "code",
   "execution_count": 16,
   "metadata": {},
   "outputs": [],
   "source": [
    "X_corr=Word_df_sample.corr()\n",
    "\n",
    "#Computing eigen values and eigen vectors\n",
    "values,vectors=np.linalg.eig(X_corr)\n",
    "\n",
    "#Sorting the eigen vectors coresponding to eigen values in descending order\n",
    "args = (-values).argsort()\n",
    "values = vectors[args]\n",
    "vectors = vectors[:, args]\n",
    "\n",
    "#Taking first 2 components which explain maximum variance for projecting\n",
    "new_vectors=vectors[:,:2]\n",
    "\n",
    "#Projecting it onto new dimesion with 2 axis\n",
    "neww_X=np.dot(Word_df_sample,new_vectors)"
   ]
  },
  {
   "cell_type": "code",
   "execution_count": null,
   "metadata": {},
   "outputs": [],
   "source": [
    "plt.figure(figsize=(14,8))\n",
    "plt.scatter(neww_X[:,0],neww_X[:,1], linewidths=2, s = 1, color='blue',)\n",
    "plt.xlabel(\"PC1\",size=10)\n",
    "plt.ylabel(\"PC2\",size=10)\n",
    "plt.title(\"Word Embedding Space\",size=10)\n",
    "vocab=list(Word_df_sample.index)\n",
    "for i, word in enumerate(vocab):\n",
    "    plt.annotate(word,xy=(neww_X[i,0],neww_X[i,1]),color='black')\n",
    "    \n",
    "plt.savefig('embedding_space.png', dpi = 500)"
   ]
  },
  {
   "cell_type": "code",
   "execution_count": null,
   "metadata": {},
   "outputs": [],
   "source": []
  },
  {
   "cell_type": "code",
   "execution_count": null,
   "metadata": {},
   "outputs": [],
   "source": []
  }
 ],
 "metadata": {
  "kernelspec": {
   "display_name": "Python 3",
   "language": "python",
   "name": "python3"
  },
  "language_info": {
   "codemirror_mode": {
    "name": "ipython",
    "version": 3
   },
   "file_extension": ".py",
   "mimetype": "text/x-python",
   "name": "python",
   "nbconvert_exporter": "python",
   "pygments_lexer": "ipython3",
   "version": "3.7.4"
  }
 },
 "nbformat": 4,
 "nbformat_minor": 4
}
